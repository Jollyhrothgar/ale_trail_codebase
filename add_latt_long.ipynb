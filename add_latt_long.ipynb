{
 "cells": [
  {
   "cell_type": "markdown",
   "metadata": {},
   "source": [
    "# Adding Lattitude and Longitude Data To Database"
   ]
  },
  {
   "cell_type": "code",
   "execution_count": 55,
   "metadata": {
    "collapsed": true
   },
   "outputs": [],
   "source": [
    "## Database\n",
    "from sqlalchemy import create_engine\n",
    "from sqlalchemy_utils import database_exists, create_database\n",
    "import psycopg2\n",
    "import pandas as pd\n",
    "import json\n",
    "\n",
    "## Yelp API \n",
    "## Installed via: https://github.com/gfairchild/yelpapi\n",
    "from yelpapi import YelpAPI "
   ]
  },
  {
   "cell_type": "markdown",
   "metadata": {},
   "source": [
    "## Set up the database connection"
   ]
  },
  {
   "cell_type": "code",
   "execution_count": 51,
   "metadata": {
    "collapsed": false
   },
   "outputs": [
    {
     "data": {
      "text/html": [
       "<div>\n",
       "<table border=\"1\" class=\"dataframe\">\n",
       "  <thead>\n",
       "    <tr style=\"text-align: right;\">\n",
       "      <th></th>\n",
       "      <th>brewery_key</th>\n",
       "      <th>phone_key</th>\n",
       "      <th>brewery_name</th>\n",
       "      <th>city</th>\n",
       "      <th>state</th>\n",
       "    </tr>\n",
       "  </thead>\n",
       "  <tbody>\n",
       "    <tr>\n",
       "      <th>0</th>\n",
       "      <td>21448</td>\n",
       "      <td>8184774566</td>\n",
       "      <td>Ladyface Ale Companie</td>\n",
       "      <td>Agoura Hills</td>\n",
       "      <td>CA</td>\n",
       "    </tr>\n",
       "    <tr>\n",
       "      <th>1</th>\n",
       "      <td>27327</td>\n",
       "      <td>8187350091</td>\n",
       "      <td>The Lab Brewing Co.</td>\n",
       "      <td>Agoura Hills</td>\n",
       "      <td>CA</td>\n",
       "    </tr>\n",
       "    <tr>\n",
       "      <th>2</th>\n",
       "      <td>39663</td>\n",
       "      <td>5102178885</td>\n",
       "      <td>Alameda Island Brewing Company</td>\n",
       "      <td>Alameda</td>\n",
       "      <td>CA</td>\n",
       "    </tr>\n",
       "    <tr>\n",
       "      <th>3</th>\n",
       "      <td>33181</td>\n",
       "      <td>5105232739</td>\n",
       "      <td>Faction Brewing</td>\n",
       "      <td>Alameda</td>\n",
       "      <td>CA</td>\n",
       "    </tr>\n",
       "    <tr>\n",
       "      <th>4</th>\n",
       "      <td>6421</td>\n",
       "      <td>9494489611</td>\n",
       "      <td>Stadium Brewing Company</td>\n",
       "      <td>Aliso Viejo</td>\n",
       "      <td>CA</td>\n",
       "    </tr>\n",
       "  </tbody>\n",
       "</table>\n",
       "</div>"
      ],
      "text/plain": [
       "   brewery_key   phone_key                    brewery_name          city state\n",
       "0        21448  8184774566           Ladyface Ale Companie  Agoura Hills    CA\n",
       "1        27327  8187350091             The Lab Brewing Co.  Agoura Hills    CA\n",
       "2        39663  5102178885  Alameda Island Brewing Company       Alameda    CA\n",
       "3        33181  5105232739                 Faction Brewing       Alameda    CA\n",
       "4         6421  9494489611         Stadium Brewing Company   Aliso Viejo    CA"
      ]
     },
     "execution_count": 51,
     "metadata": {},
     "output_type": "execute_result"
    }
   ],
   "source": [
    "## Now try the same queries, but in python!\n",
    "\n",
    "dbname = 'beer_db'\n",
    "mypassword = 'simple'\n",
    "username = 'postgres'\n",
    "\n",
    "# connect:\n",
    "con = None\n",
    "con = psycopg2.connect(database = dbname, user = username,host='/var/run/postgresql',password=mypassword)\n",
    "\n",
    "# query:\n",
    "sql_query = \"\"\"\n",
    "SELECT \n",
    "    distinct brewery_key,phone_key,brewery_name,city,state \n",
    "FROM \n",
    "    breweries \n",
    "WHERE \n",
    "    phone_key > 0 \n",
    "ORDER BY city;;\n",
    "\"\"\"\n",
    "brewery_data_from_sql = pd.read_sql_query(sql_query,con)\n",
    "\n",
    "brewery_data_from_sql.head()"
   ]
  },
  {
   "cell_type": "markdown",
   "metadata": {},
   "source": [
    "## Yelp API Requests"
   ]
  },
  {
   "cell_type": "code",
   "execution_count": 79,
   "metadata": {
    "collapsed": false
   },
   "outputs": [
    {
     "name": "stdout",
     "output_type": "stream",
     "text": [
      "4.0\n",
      "218\n",
      "33.832638\n",
      "-117.912506\n"
     ]
    }
   ],
   "source": [
    "CONSUMER_KEY = 'ORSXdOCKxhchhVsWm_cu_Q'\n",
    "CONSUMER_SECRET = 'RDGuDq0zh1IZkyUnui60Izb00KY'\n",
    "TOKEN = '0g3ixyY4GYGaGDVgVfvV9lAmZdDQTEaB'\n",
    "TOKEN_SECRET = '7591YIL6f6Ou7HS0t58TFHfJdGk'\n",
    "\n",
    "yelp_api = YelpAPI(CONSUMER_KEY, CONSUMER_SECRET, TOKEN, TOKEN_SECRET)\n",
    "phone_search_results = yelp_api.phone_search_query(phone=7147801888)\n",
    "#print phone_search_results\n",
    "results_dict = phone_search_results\n",
    "\n",
    "print results_dict['businesses'][0]['rating']\n",
    "print results_dict['businesses'][0]['review_count']\n",
    "print results_dict['businesses'][0]['location']['coordinate']['latitude']\n",
    "print results_dict['businesses'][0]['location']['coordinate']['longitude']"
   ]
  },
  {
   "cell_type": "code",
   "execution_count": null,
   "metadata": {
    "collapsed": true
   },
   "outputs": [],
   "source": []
  }
 ],
 "metadata": {
  "kernelspec": {
   "display_name": "Python 2",
   "language": "python",
   "name": "python2"
  },
  "language_info": {
   "codemirror_mode": {
    "name": "ipython",
    "version": 2
   },
   "file_extension": ".py",
   "mimetype": "text/x-python",
   "name": "python",
   "nbconvert_exporter": "python",
   "pygments_lexer": "ipython2",
   "version": "2.7.11"
  }
 },
 "nbformat": 4,
 "nbformat_minor": 0
}
