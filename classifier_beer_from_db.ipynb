{
 "cells": [
  {
   "cell_type": "markdown",
   "metadata": {},
   "source": [
    "# Using NLTK to process reviews of beer to classify as \"ipa-like\", which is a proxy for hoppiness or \"not ipa-like\", which is a proxy for maltiness"
   ]
  },
  {
   "cell_type": "code",
   "execution_count": 2,
   "metadata": {
    "collapsed": false
   },
   "outputs": [
    {
     "name": "stdout",
     "output_type": "stream",
     "text": [
      "\n"
     ]
    }
   ],
   "source": [
    "## Python packages - you may have to pip install sqlalchemy, sqlalchemy_utils, and psycopg2.\n",
    "%matplotlib inline\n",
    "from sqlalchemy import create_engine\n",
    "from sqlalchemy_utils import database_exists, create_database\n",
    "import psycopg2\n",
    "import pandas as pd\n",
    "import nltk\n",
    "import numpy\n",
    "import random"
   ]
  },
  {
   "cell_type": "code",
   "execution_count": 3,
   "metadata": {
    "collapsed": true
   },
   "outputs": [],
   "source": [
    "def main():\n",
    "    ## Put stuff in notebook here\n",
    "    print \"main!\""
   ]
  },
  {
   "cell_type": "code",
   "execution_count": 4,
   "metadata": {
    "collapsed": true
   },
   "outputs": [],
   "source": [
    "#In Python: Define a database name (we're using a dataset on births, so I call it \n",
    "# birth_db), and your username for your computer (CHANGE IT BELOW). \n",
    "dbname = 'beer_db_2'\n",
    "username = 'postgres'\n",
    "mypassword = 'simple'\n",
    "engine = create_engine('postgres://%s:%s@localhost/%s'%(username,mypassword,dbname))\n",
    "\n",
    "con = psycopg2.connect(database = dbname, user = username,host='/var/run/postgresql',password=mypassword)"
   ]
  },
  {
   "cell_type": "markdown",
   "metadata": {},
   "source": [
    "# Queries"
   ]
  },
  {
   "cell_type": "code",
   "execution_count": 5,
   "metadata": {
    "collapsed": false
   },
   "outputs": [],
   "source": [
    "beer_style_query = '''\n",
    "SELECT\n",
    "    breweries.style_name,count(distinct breweries.beer_name) as number_of_beers\n",
    "FROM\n",
    "    breweries\n",
    "GROUP BY\n",
    "    breweries.style_name\n",
    "ORDER BY\n",
    "    number_of_beers desc;\n",
    "'''\n",
    "beer_style_rank = pd.read_sql_query(beer_style_query,con)\n",
    "\n",
    "beer_reviews_query = '''\n",
    "SELECT\n",
    "    reviews.review_text,\n",
    "    reviews.beer_key,\n",
    "    reviews.username,\n",
    "    reviews.look,\n",
    "    reviews.taste,\n",
    "    reviews.feel,\n",
    "    reviews.overall,\n",
    "    breweries.style_key,\n",
    "    breweries.style_name\n",
    "FROM \n",
    "    reviews,breweries\n",
    "WHERE\n",
    "    breweries.beer_name_key = reviews.beer_key\n",
    "ORDER BY\n",
    "    reviews.username\n",
    "'''\n",
    "beer_reviews = pd.read_sql_query(beer_reviews_query,con)\n",
    "\n",
    "ratings_per_user_query = '''\n",
    "SELECT\n",
    "    reviews.username,count(reviews.review_text) as number_of_reviews\n",
    "FROM \n",
    "    reviews,breweries\n",
    "WHERE\n",
    "    reviews.beer_key = breweries.beer_name_key\n",
    "GROUP BY\n",
    "    reviews.username\n",
    "ORDER BY \n",
    "    number_of_reviews desc;\n",
    "'''\n",
    "\n",
    "user_ratings = pd.read_sql_query(ratings_per_user_query,con)\n",
    "\n",
    "# IPA, Double IPA, English IPA\n",
    "ipa_query = \"\"\"\n",
    "SELECT\n",
    "    reviews.username,\n",
    "    reviews.review_text,\n",
    "    reviews.stemmed_review_text,\n",
    "    reviews.beer_key,\n",
    "    breweries.brewery_key,\n",
    "    breweries.beer_name,\n",
    "    reviews.look,\n",
    "    reviews.taste,\n",
    "    reviews.feel,\n",
    "    reviews.overall,\n",
    "    breweries.style_key,\n",
    "    breweries.style_name\n",
    "FROM \n",
    "    reviews,breweries\n",
    "WHERE\n",
    "    breweries.beer_name_key = reviews.beer_key\n",
    "AND breweries.ratings_count > 5\n",
    "AND \n",
    "( \n",
    " breweries.style_key = 116\n",
    " OR breweries.style_key = 140\n",
    " OR breweries.style_key = 150\n",
    ")\n",
    "ORDER BY\n",
    "    breweries.avg_score desc;\n",
    "\"\"\"\n",
    "\n",
    "# american porter, english porter, oatmeal stout, milk/sweet stout\n",
    "not_ipa_query = \"\"\"\n",
    "SELECT\n",
    "    reviews.username,\n",
    "    reviews.review_text,\n",
    "    reviews.stemmed_review_text,\n",
    "    reviews.beer_key,\n",
    "    breweries.brewery_key,\n",
    "    breweries.beer_name,\n",
    "    reviews.look,\n",
    "    reviews.taste,\n",
    "    reviews.feel,\n",
    "    reviews.overall,\n",
    "    breweries.style_key,\n",
    "    breweries.style_name\n",
    "FROM \n",
    "    reviews,breweries\n",
    "WHERE\n",
    "    breweries.beer_name_key = reviews.beer_key\n",
    "AND breweries.ratings_count > 5\n",
    "AND \n",
    "(\n",
    " breweries.style_key = 159\n",
    " OR breweries.style_key = 101\n",
    " OR breweries.style_key = 67\n",
    " OR breweries.style_key = 82\n",
    ")\n",
    "ORDER BY\n",
    "    reviews.overall desc;\n",
    "\"\"\"\n",
    "\n",
    "# All Beers Except Hoppy or Dark Superstyles\n",
    "all_beers_query = \"\"\"\n",
    "SELECT\n",
    "    reviews.username,\n",
    "    reviews.review_text,\n",
    "    reviews.stemmed_review_text,\n",
    "    reviews.beer_key,\n",
    "    breweries.brewery_key,\n",
    "    breweries.beer_name,\n",
    "    reviews.look,\n",
    "    reviews.taste,\n",
    "    reviews.feel,\n",
    "    reviews.overall,\n",
    "    breweries.style_key,\n",
    "    breweries.style_name\n",
    "FROM \n",
    "    reviews,breweries\n",
    "WHERE\n",
    "    breweries.beer_name_key = reviews.beer_key\n",
    "AND breweries.ratings_count > 0\n",
    "ORDER BY\n",
    "    reviews.overall desc;\n",
    "\"\"\"\n",
    "untrained_beers_query = \"\"\"\n",
    "SELECT\n",
    "    reviews.username,\n",
    "    reviews.review_text,\n",
    "    reviews.stemmed_review_text,\n",
    "    reviews.beer_key,\n",
    "    breweries.brewery_key,\n",
    "    breweries.beer_name,\n",
    "    reviews.look,\n",
    "    reviews.taste,\n",
    "    reviews.feel,\n",
    "    reviews.overall,\n",
    "    breweries.style_key,\n",
    "    breweries.style_name\n",
    "FROM \n",
    "    reviews,breweries\n",
    "WHERE\n",
    "    breweries.beer_name_key = reviews.beer_key\n",
    "AND breweries.ratings_count > 0\n",
    "AND\n",
    "(\n",
    " breweries.style_key != 159\n",
    " AND breweries.style_key != 101\n",
    " AND breweries.style_key != 67\n",
    " AND breweries.style_key != 82\n",
    " AND breweries.style_key != 116\n",
    " AND breweries.style_key != 140\n",
    " AND breweries.style_key != 150\n",
    ")\n",
    "ORDER BY\n",
    "    reviews.overall desc;\n",
    "\"\"\""
   ]
  },
  {
   "cell_type": "markdown",
   "metadata": {},
   "source": [
    "# Extracting Data From the Queries"
   ]
  },
  {
   "cell_type": "code",
   "execution_count": 6,
   "metadata": {
    "collapsed": true
   },
   "outputs": [],
   "source": [
    "ipa = pd.read_sql_query(ipa_query,con)\n",
    "not_ipa = pd.read_sql_query(not_ipa_query,con)\n",
    "all_beers = pd.read_sql_query(all_beers_query,con)"
   ]
  },
  {
   "cell_type": "code",
   "execution_count": 7,
   "metadata": {
    "collapsed": false
   },
   "outputs": [
    {
     "name": "stdout",
     "output_type": "stream",
     "text": [
      "ipa reviews: 7557\n",
      "not_ipa reviews: 1471\n",
      "all reviews: 33827\n"
     ]
    }
   ],
   "source": [
    "print 'ipa reviews:',ipa.shape[0]\n",
    "print 'not_ipa reviews:',not_ipa.shape[0]\n",
    "print 'all reviews:',all_beers.shape[0]"
   ]
  },
  {
   "cell_type": "code",
   "execution_count": 8,
   "metadata": {
    "collapsed": false
   },
   "outputs": [
    {
     "name": "stdout",
     "output_type": "stream",
     "text": [
      "extracted 0\n",
      "500 hoppy reviews gotten\n",
      "500 malty top reviews gotten\n",
      "got 1000 reviews, with 63755 words.\n"
     ]
    }
   ],
   "source": [
    "# Put this stuff into a form that nltk can use\n",
    "beer_reviews = []\n",
    "hoppy_reviews = []\n",
    "malty_reviews = []\n",
    "all_beer_reviews = []\n",
    "\n",
    "all_words = []\n",
    "hoppy_words = []\n",
    "malty_words = []\n",
    "counter = 0\n",
    "\n",
    "# choose whether to use stemmed_review_text or review_text\n",
    "#which_review = 'stemmed_review_text'\n",
    "which_review = 'review_text'\n",
    "\n",
    "for beer in all_beers.iterrows():\n",
    "    try:\n",
    "        review_words = row[which_review].split()\n",
    "        all_beer_reviews.append(review_words)\n",
    "    except:\n",
    "        \"skipping, no review data\"\n",
    "print \"extracted\",len(all_beer_reviews)\n",
    "\n",
    "for index,row in ipa.iterrows():\n",
    "    try:\n",
    "        review_words = row[which_review].split()\n",
    "        beer_reviews.append((review_words,\"ipa\"))\n",
    "        hoppy_reviews.append((review_words,\"ipa\"))\n",
    "        for w in review_words:\n",
    "            all_words.append(w.lower())\n",
    "            hoppy_words.append(w.lower())\n",
    "        counter += 1\n",
    "        if counter == 500:\n",
    "            print counter,\"hoppy reviews gotten\"\n",
    "            break\n",
    "    except:\n",
    "        \"skipping, no review data\" \n",
    "\n",
    "counter = 0\n",
    "\n",
    "for index,row in not_ipa.iterrows():\n",
    "    try:\n",
    "        review_words = row[which_review].split()\n",
    "        beer_reviews.append((review_words,\"not_ipa\"))\n",
    "        malty_reviews.append((review_words,\"not_ipa\"))\n",
    "        for w in review_words:\n",
    "            all_words.append(w.lower())\n",
    "            malty_words.append(w.lower())\n",
    "        counter += 1\n",
    "        if counter == 500:\n",
    "            print counter,\"malty top reviews gotten\"\n",
    "            break\n",
    "    except:\n",
    "        \"skipping, no review data\"\n",
    "print \"got\",len(beer_reviews),'reviews, with',len(all_words),'words.'"
   ]
  },
  {
   "cell_type": "code",
   "execution_count": 9,
   "metadata": {
    "collapsed": false
   },
   "outputs": [],
   "source": [
    "random.shuffle(beer_reviews)"
   ]
  },
  {
   "cell_type": "markdown",
   "metadata": {},
   "source": [
    "# Compile Words"
   ]
  },
  {
   "cell_type": "markdown",
   "metadata": {},
   "source": [
    "Here, we can get the frequency distribution of keywords, which are not stemmed."
   ]
  },
  {
   "cell_type": "code",
   "execution_count": 10,
   "metadata": {
    "collapsed": false
   },
   "outputs": [
    {
     "name": "stdout",
     "output_type": "stream",
     "text": [
      "Hoppy Words: [('i', 777), ('hops', 312), ('the', 311), ('citrus', 302), ('taste', 274), ('ipa', 267), ('hop', 263), ('head', 256), ('orange', 250), ('tropical', 237), ('good', 214), ('grapefruit', 206), ('a', 198), ('like', 198), ('fruit', 192), ('pine', 191), ('malt', 189), ('nice', 183), ('white', 182), ('one', 176), ('this', 171), ('light', 169), ('finish', 168), ('flavor', 163), ('great', 161), ('aroma', 160), ('bitterness', 156), ('carbonation', 154), ('well', 154), ('medium', 153)] \n",
      "\n",
      "Malty Words: [('i', 664), ('coffee', 647), ('chocolate', 515), ('dark', 470), ('the', 414), ('head', 370), ('taste', 299), ('porter', 296), ('black', 277), ('like', 275), ('roasted', 272), ('nice', 272), ('one', 227), ('a', 226), ('flavor', 224), ('vanilla', 223), ('malt', 218), ('good', 215), ('brown', 212), ('light', 212), ('well', 198), ('this', 183), ('sweet', 182), ('smooth', 179), ('creamy', 168), ('great', 166), ('medium', 165), ('bit', 161), ('finish', 157), ('aroma', 154)] \n",
      "\n",
      "All words: [('i', 1441), ('the', 725), ('coffee', 665), ('head', 626), ('taste', 573), ('chocolate', 522), ('dark', 488), ('like', 473), ('nice', 455), ('good', 429), ('a', 424), ('malt', 407), ('one', 403), ('flavor', 387), ('light', 381), ('hops', 375), ('this', 354), ('well', 352), ('great', 327), ('finish', 325), ('medium', 318), ('citrus', 316), ('aroma', 314), ('hop', 313), ('sweet', 311), ('porter', 296), ('carbonation', 295), ('it', 290), ('bit', 288), ('really', 284)] \n",
      "\n"
     ]
    }
   ],
   "source": [
    "all_words = nltk.FreqDist(all_words)\n",
    "hoppy_words = nltk.FreqDist(hoppy_words)\n",
    "malty_words = nltk.FreqDist(malty_words)\n",
    "print \"Hoppy Words:\",hoppy_words.most_common(30),\"\\n\"\n",
    "print \"Malty Words:\",malty_words.most_common(30),\"\\n\"\n",
    "print \"All words:\",all_words.most_common(30),\"\\n\""
   ]
  },
  {
   "cell_type": "markdown",
   "metadata": {},
   "source": [
    "# Create sparse vectors of words for bayesian classificaiton"
   ]
  },
  {
   "cell_type": "code",
   "execution_count": 11,
   "metadata": {
    "collapsed": false
   },
   "outputs": [
    {
     "name": "stdout",
     "output_type": "stream",
     "text": [
      "{'clamoring': False, 'desirable': False, 'yellow': False, 'four': False, 'maltier': False, 'woods': False, 'hanging': False, 'ringlets': False, 'woody': False, 'centimeter': False, 'worked': False, 'adorning': False, 'payoff': False, 'increase': False, 'quaffable': False, 'canes': False, 'buddy': False, 'quadruple': False, 'tickle': False, 'tingle': False, 'swap': False, 'lord': False, 'gracious': False, 'worth': False, 'deli': False, 'blanket': False, 'manic': False, 'expierences': False, 'figs': False, 'bringing': False, 'caramels': False, 'basics': False, 'daydream': False, 'caramely': False, 'pinch': False, 'specialties': False, 'differentiates': False, 'nondescript': False, 'shows': False, 'clothes': False, 'chew': False, 'specially': False, 'tired': False, 'blasphemy': False, 'glasss': False, 'preface': False, 'bacon': False, 'elegant': False, 'second': False, 'glassl': False, 'rigorous': False, 'glassa': False, 'beigebrown': False, 'lucious': False, 'filtration': False, 'pace': False, 'ruthless': False, 'integrity': False, 'fingers': False, 'bottleglass': False, 'above': False, 'fetish': False, 'contributes': False, 'consisting': False, 'told': False, 'textures': False, 'crunch': False, 'simultaneously': False, 'sinks': False, 'festive': False, 'herb': False, 'men': False, 'jasmine': False, 'residual': False, 'here': False, 'fruitspineapple': False, 'pedro': False, 'dennoginizer': False, 'inhaling': False, 'reggae': False, 'kids': False, 'lychee': False, 'k': False, 'climbed': False, 'garlicky': False, 'smoke': False, 'unwanted': False, 'aka': False, 'spotty': False, 'criticism': False, 'appropriately': False, 'whatnot': False, 'charred': False, 'orangish': False, 'immelman': False, 'hindsight': False, 'glance': False, 'total': False, 'unit': False, 'experimentation': False, 'comprised': False, 'cheating': False, 'plop': False, 'nine': False, 'wintertime': False, 'gloss': False, 'overshadow': False, 'negative': False, 'overhead': False, 'telegraph': False, 'strike': False, 'indiana': False, 'blueberry': False, 'juiciest': False, 'holy': False, 'sauvignon': False, 'detracts': False, 'brings': False, 'starburst': False, 'infusion': False, 'reign': False, 'aware': False, 'glass': False, 'hole': False, 'hold': False, 'fluidly': False, 'word': False, 'reviewed': False, 'slicko': False, 'sweeten': False, 'work': False, 'cant': False, 'crackery': False, 'locker': False, 'era': False, 'sweeter': False, 'flare': False, 'exhale': False, 'crackers': False, 'example': False, 'cans': False, 'lowcountry': False, 'transition': False, 'indicated': False, 'molasass': False, 'india': False, 'indicates': False, 'caution': False, 'drewone': False, 'want': False, 'times': False, 'absolute': False, 'fudgy': False, 'recovery': False, 'provide': False, 'dimple': False, 'drying': False, 'nuts': False, 'copious': False, 'revisit': False, 'strongtaste': False, 'hot': False, 'hop': False, 'disappoint': False, 'ordinary': False, 'beach': False, 'pizza': False, 'fever': False, 'goober': False, 'albany': False, 'earlier': False, 'pitchblackness': False, 'wrong': False, 'jumping': False, 'chilled': False, 'winy': False, 'sucreversary': False, 'wins': False, 'appreciate': False, 'cigarettes': False, 'green': False, 'specks': False, 'keeps': False, 'order': False, 'keepz': False, 'wine': False, 'blind': False, 'popsicle': False, 'mistrued': False, 'vary': False, 'satisfied': False, 'kickoff': False, 'earthiness': False, 'goodnesss': False, 'fit': False, 'somewhere': False, 'highlights': False, 'succeeds': False, 'avocado': False, 'intelligentsia': False, 'production': False, 'understated': False, 'fig': False, 'increible': False, 'savory': False, 'hidden': False, 'fin': False, 'easier': False, 'harmony': False, 'then': False, 'coffee': True, 'affected': False, 'woken': False, 'powerful': False, 'slate': False, 'disturb': False, 'break': False, 'roommate': False, 'penetration': False, 'wholeheartedly': False, 'beaut': False, 'braised': False, 'soothing': False, 'duvel': False, 'remaining': False, 'rocky': False, 'oxygen': False, 'tampering': False, 'l': False, 'noticable': False, 'reasonable': False, 'volcano': False, 'meal': False, 'luck': False, 'preceded': False, 'snakes': False, 'recognizably': False, 'series': False, 'crimes': False, 'swaths': False, 'drinker': False, 'grapefruitt': False, 'forgot': False, 'substantially': False, 'grapefruity': False, 'whit': False, 'recognizable': False, 'spicing': False, 'rr': False, 'quality': False, 'tried': True, 'urbana': False, 'excepting': False, 'mason': False, 'particles': False, 'bitternessfeel': False, 'remorse': False, 'supermooth': False, 'hooker': False, 'forth': False, 'sliding': False, 'robles': False, 'foundation': False, 'nitrochurchill': False, 'assured': False, 'hang': False, 'dankest': False, 'saisons': False, 'standard': False, 'smacking': False, 'pumpkins': False, 'grapes': False, 'nonic': False, 'detecting': False, 'knit': False, 'ate': False, 'exposing': False, 'shelves': False, 'raisin': False, 'ordering': False, 'shipped': False, 'speedy': False, 'tempting': False, 'baltic': False, 'caught': False, 'xocoveza': False, 'crowning': False, 'render': False, 'steroids': False, 'wash': False, 'disappearing': False, 'delicious': False, 'wasn': False, 'thick': False, 'clarity': False, 'masterfully': False, 'monotonous': False, 'bitten': False, 'rated': False, 'service': False, 'similarly': False, 'gooseberry': False, 'blackberry': False, 'needed': False, 'master': False, 'listed': False, 'tangy': False, 'airy': False, 'legs': False, 'bitter': False, 'dogs': False, 'listen': False, 'kiwi': False, 'nige': False, 'enhancing': False, 'fragant': False, 'defaulted': False, 'cereal': False, 'hazelnut': False, 'positively': False, 'brownsmell': False, 'hopping': False, 'showed': False, 'tavern': False, 'notesa': False, 'tree': False, 'seated': False, 'shower': False, 'lingering': False, 'historical': False, 'feeling': False, 'solely': False, 'minus': False, 'acclaim': False, 'boston': False, 'sightglass': False, 'flavorful': False, 'spectrum': False, 'fasto': False, 'manner': False, 'warms': False, 'stomach': False, 'obviously': False, 'seek': False, 'contents': False, 'forced': False, 'strength': False, 'saladripe': False, 'mostly': False, 'laden': False, 'creamsickle': False, 'soaked': False, 'swertness': False, 'eagerly': False, 'recommended': False, 'causing': False, 'doors': False, 'pilgrimage': False, 'brewingpours': False, 'smoothoverall': False, 'mystique': False, 'diminishing': False, 'metrics': False, 'clears': False, 'mouth': False, 'pnw': False, 'retaining': False, 'welld': False, 'the': False, 'maria': False, 'doo': False, 'newcomers': False, 'complexities': False, 'definitely': False, 'scotch': False, 'incomplete': False, 'saying': False, 'bomb': True, 'subtly': False, 'tequila': False, 'sweetner': False, 'musty': False, 'forsure': False, 'subtle': False, 'tempted': False, 'enjoyed': False, 'powering': False, 'toast': False, 'touches': False, 'busy': False, 'menu': False, 'hrs': False, 'appreciated': False, 'theme': False, 'bliss': False, 'deepest': False, 'rich': False, 'personality': False, 'do': False, 'cappuccino': False, 'varietals': False, 'godzilla': False, 'dc': False, 'preferred': False, 'yielded': False, 'haunted': False, 'dy': False, 'cinammon': False, 'du': False, 'dr': False, 'ds': False, 'seasonals': False, 'covering': False, 'nicely': False, 'lexington': False, 'surpirsed': False, 'release': False, 'pumpkin': False, 'steak': False, 'tingess': False, 'farther': False, 'blew': False, 'scours': False, 'lacingsmell': False, 'lemonade': False, 'unsurprisingly': False, 'goodnight': False, 'imho': False, 'damnation': False, 'reviewer': False, 'fail': False, 'bevmo': False, 'best': True, 'awe': False, 'lancaster': False, 'mangoes': False, 'lots': False, 'away': False, 'rings': False, 'anaheim': False, 'opened': False, 'score': False, 'props': False, 'we': True, 'interrupting': False, 'terms': False, 'oragne': False, 'nature': False, 'rolled': False, 'smelled': False, 'handful': False, 'packaged': False, 'detracting': False, 'extent': False, 'defiance': False, 'hills': False, 'received': False, 'essentially': False, 'maltyness': False, 'veer': False, 'country': False, 'lacingsaroma': False, 'ilk': False, 'demanded': False, 'fruity': False, 'astringency': False, 'pith': False, 'wrapping': False, 'planned': False, 'lookin': False, 'logic': False, 'exceeds': False, 'argue': False, 'tinge': False, 'asked': False, 'tounge': False, 'tastea': False, 'tough': False, 'marketting': False, 'yeswould': False, 'irresponsible': False, 'canyon': False, 'fudgey': False, 'blending': False, 'tony': False, 'blonde': False, 'tasted': False, 'angel': False, 'billing': False, 'source': False, 'union': False, 'quicklyscent': False, 'much': False, 'privilege': False, 'basin': False, 'warmth': False, 'dots': False, 'life': False, 'eastern': False, 'tastem': False, 'booziness': False, 'sdbw': False, 'madhouse': False, 'irvine': False, 'places': False, 'dave': False, 'substance': False, 'chile': False, 'chili': False, 'haters': False, 'herbaceousness': False, 'chill': False, 'inhibit': False, 'gritty': False, 'ahead': False, 'dissect': False, 'pungent': False, 'air': True, 'near': False, 'ain': False, 'neat': False, 'thrash': False, 'pepperiness': False, 'smoky': False, 'mistake': False, 'cane': False, 'smorgasbord': False, 'played': False, 'sting': False, 'conditioned': False, 'letdown': False, 'player': False, 'overpowers': False, 'upscale': False, 'anticipating': False, 'juiciness': False, 'smoothest': False, 'confirmed': False, 'grandiose': False, 'sorachi': False, 'things': False, 'jerry': False, 'papayas': False, 'split': False, 'babies': False, 'avoids': False, 'lacks': False, 'toasted': False, 'european': False, 'smokepot': False, 'fairly': False, 'boiled': False, 'nod': False, 'everett': False, 'tops': False, 'rain': False, 'hand': False, 'pubs': False, 'nip': False, 'terribly': False, 'tune': False, 'nuanced': False, 'vermont': False, 'wispy': False, 'kept': False, 'stupendous': False, 'wisps': False, 'youre': False, 'drip': False, 'detracted': False, 'qualities': False, 'thg': False, 'nachos': False, 'smoked': False, 'mingle': False, 'givin': False, 'golden': False, 'slighter': False, 'distribute': False, 'disguise': False, 'quintessential': False, 'rushing': False, 'previous': False, 'adding': False, 'enters': False, 'ham': False, 'instance': False, 'ease': False, 'had': False, 'nuances': False, 'hay': False, 'shout': False, 'belongs': False, 'transformed': False, 'board': False, 'easy': False, 'offwhite': False, 'has': False, 'hat': False, 'haw': False, 'phenominal': False, 'toned': False, 'possible': False, 'awhile': False, 'caps': False, 'possibly': False, 'fusion': False, 'indicative': False, 'birth': False, 'shadow': False, 'unique': False, 'brought': False, 'cooler': False, 'suplanted': False, 'remind': False, 'meringue': False, 'night': False, 'revisiting': False, 'cirrus': False, 'right': False, 'old': True, 'people': False, 'crown': False, 'begin': False, 'webs': False, 'productions': False, 'hassle': False, 'dispersers': False, 'critique': False, 'creep': False, 'friend': False, 'perchance': False, 'for': False, 'bottom': False, 'lockdown': False, 'bubblicious': False, 'loads': False, 'creative': False, 'grapefruit': False, 'asking': False, 'exposition': False, 'melange': False, 'lagers': False, 'foo': False, 'shaker': False, 'dolce': False, 'sparse': False, 'peel': False, 'marketing': False, 'constructive': False, 'darkness': False, 'losing': False, 'memorable': False, 'peep': False, 'bury': False, 'properties': False, 'takes': False, 'dollars': False, 'months': False, 'entrants': False, 'o': True, 'magazine': False, 'coronado': False, 'banker': False, 'stoked': False, 'gingerbread': False, 'lacked': False, 'slightly': False, 'alembic': False, 'oten': False, 'pineapples': False, 'webbed': False, 'maxwell': False, 'honeymoon': False, 'soo': False, 'son': False, 'rendering': False, 'sos': False, 'taffy': False, 'capped': False, 'bitting': False, 'mangos': False, 'wrap': False, 'honored': False, 'reducing': False, 'nuisance': False, 'strangely': False, 'east': False, 'pilsner': False, 'support': False, 'constantly': False, 'tame': False, 'avail': False, 'width': False, 'way': False, 'greatness': False, 'jane': False, 'was': False, 'happy': False, 'diggity': False, 'offer': False, 'perfumey': False, 'becoming': False, 'taken': False, 'needles': False, 'perfumed': False, 'true': False, 'otter': False, 'absent': False, 'citraholic': False, 'cellarmaker': False, 'flecks': False, 'inside': False, 'beercationing': False, 'crystal': False, 'plymouth': False, 'maximus': False, 'nicest': False, 'lays': False, 'abbbp': False, 'mmmmm': False, 'duet': False, 'emit': False, 'moly': False, 'medication': False, 'hotter': False, 'stronger': False, 'stupendously': False, 'textbook': False, 'proves': False, 'promised': False, 'ship': False, 'prickle': False, 'mole': False, 'starfruit': False, 'redolent': False, 'lees': False, 'offputting': False, 'stake': False, 'when': False, 'imparting': False, 'aipa': False, 'successful': False, 'pasadena': False, 'role': False, 'topper': False, 'sunset': False, 'smell': False, 'leek': False, 'splitgood': False, 'undeniably': False, 'greenery': False, 'brothers': False, 'palms': False, 'juices': False, 'welcome': False, 'oiliness': False, 'update': False, 'mightily': False, 'journey': False, 'juiceo': False, 'smelling': False, 'burbon': False, 'juiced': False, 'progresses': False, 'skunk': False, 'spades': False, 'typically': False, 'together': False, 'loyal': False, 'time': False, 'push': False, 'sniffer': False, 'lineup': False, 'concept': False, 'growlette': False, 'tunderstruck': False, 'dance': False, 'activated': False, 'switches': False, 'mile': False, 'chair': False, 'plucked': False, 'tulipappearance': False, 'layers': False, 'venice': False, 'uneven': False, 'grape': False, 'zone': False, 'rousing': False, 'hump': False, 'flash': False, 'masculinity': False, 'brown': False, 'grill': False, 'brownie': False, 'seemingly': False, 'choice': False, 'stays': False, 'trouble': False, 'blast': False, 'exact': False, 'minute': False, 'aggressively': False, 'perceived': False, 'epic': False, 'presented': False, 'turns': False, 'hawaii': False, 'gum': False, 'skewed': False, 'leave': False, 'p': False, 'settle': False, 'offering': False, 'team': False, 'homebrewer': False, 'bonfire': False, 'prevent': False, 'revolution': False, 'regret': False, 'insignificant': False, 'fingernail': False, 'columbus': False, 'sign': False, 'cost': False, 'enticing': False, 'appear': False, 'cajet': False, 'heaviness': False, 'menthol': False, 'rum': False, 'current': False, 'shared': False, 'crashing': False, 'freaky': False, 'meld': False, 'satisfy': False, 'supporting': False, 'explosion': False, 'transparency': False, 'assertive': False, 'funeral': False, 'fest': False, 'understanding': False, 'pause': False, 'lustrous': False, 'hoopy': False, 'alone': False, 'simcoe': False, 'appears': False, 'change': False, 'buck': False, 'dusts': False, 'loiters': False, 'brilliant': False, 'impacted': False, 'earned': False, 'bot': False, 'step': False, 'commonly': False, 'caramelly': False, 'accomplished': False, 'harrymel': False, 'usually': False, 'carob': False, 'pillow': False, 'nowhere': False, 'ipa': False, 'love': False, 'br': False, 'misc': False, 'extra': False, 'lending': False, 'prefer': False, 'melons': False, 'logical': False, 'herbaceous': False, 'uphill': False, 'papago': False, 'fool': False, 'forefront': False, 'rarely': False, 'market': False, 'hopsnice': False, 'flavors': False, 'towards': False, 'snifterl': False, 'working': False, 'sniftera': False, 'positive': False, 'angry': False, 'pints': False, 'tightly': False, 'filmy': False, 'wonderfully': False, 'opposed': False, 'wondering': False, 'cared': False, 'swagger': False, 'sunburst': False, 'loving': False, 'introducing': False, 'bodyhead': False, 'hooked': False, 'club': False, 'apparent': False, 'rrbc': False, 'sierra': False, 'beeradvocate': False, 'department': False, 'easiest': False, 'clumps': False, 'beantaste': False, 'deserved': False, 'fortified': False, 'originally': False, 'pretend': False, 'cat': False, 'labeled': False, 'can': False, 'cal': False, 'fla': False, 'bonafide': False, 'caa': False, 'toffee': False, 'ibu': False, 'reviewing': False, 'heart': False, 'grassy': False, 'grasst': False, 'december': False, 'awesome': False, 'fuck': False, 'beercraft': False, 'locks': False, 'hides': False, 'allowed': False, 'chic': False, 'distinguishable': False, 'occur': False, 'sweetie': False, 'textural': False, 'winter': False, 'savor': False, 'buttered': False, 'spreads': False, 'write': False, 'sunday': False, 'wafting': False, 'snaps': False, 'dive': False, 'stoutt': False, 'spot': False, 'residues': False, 'latte': False, 'produce': False, 'mad': False, 'date': False, 'such': False, 'flourish': False, 'shockingly': False, 'steal': False, 'noset': False, 'natural': False, 'varieties': False, 'conscious': False, 'ss': False, 'spicepine': False, 'benny': False, 'st': False, 'dankness': False, 'darkened': False, 'mango': False, 'so': False, 'sn': False, 'sm': False, 'sa': False, 'pulled': False, 'sf': False, 'scents': False, 'sd': False, 'serving': False, 'indeed': False, 'years': False, 'course': False, 'nitrogen': False, 'shake': False, 'marshmallows': False, 'cold': False, 'still': False, 'cola': False, 'splurge': False, 'iiipa': False, 'cleanest': False, 'jim': False, 'moylan': False, 'forms': False, 'tulp': False, 'window': False, 'instantly': False, 'non': False, 'float': False, 'disparate': False, 'smash': False, 'matches': False, 'roasttaste': False, 'sweetened': False, 'nation': False, 'overpowering': False, 'prunes': False, 'unimpressive': False, 'half': False, 'not': False, 'charring': False, 'mbc': False, 'hall': False, 'maintaining': False, 'matched': False, 'layering': False, 'roasty': False, 'january': False, 'didn': False, 'kerr': False, 'kern': False, 'intrigued': False, 'outrageously': False, 'bowling': False, 'entirely': False, 'quarter': False, 'em': False, 'sugary': False, 'square': False, 'eh': False, 'bursting': False, 'sugars': False, 'yeah': False, 'hurried': False, 'bradley': False, 'balanced': False, 'daythis': False, 'receipe': False, 'intended': False, 'album': False, 'canvas': False, 'beauty': False, 'space': False, 'rounding': False, 'irony': False, 'tingly': False, 'looking': False, 'seriously': False, 'exploding': False, 'hoppiness': False, 'wateryo': False, 'astral': False, 'bordering': False, 'complimented': False, 'wan': False, 'yjis': False, 'million': False, 'envelop': False, 'lmu': False, 'quite': False, 'tappinga': False, 'complicated': False, 'carbonationo': False, 'intensely': False, 'carb': False, 'ominous': False, 'remainder': False, 'carbonationd': False, 'care': False, 'waxy': False, 'couldn': False, 'disguised': False, 'yup': False, 'collapsing': False, 'tasting': False, 'gaff': False, 'modest': False, 'british': False, 'honest': False, 'disguises': False, 'punt': False, 'yum': False, 'massive': False, 'swing': False, 'hophead': False, 'zam': False, 'striking': False, 'chocolatier': False, 'one': False, 'specifically': False, 'spanish': False, 'comprises': False, 'rind': False, 'ring': False, 'open': False, 'tomorrow': False, 'ripping': False, 'size': False, 'stuffer': False, 'city': False, 'given': False, 'sheet': False, 'fl': False, 'bite': False, 'burst': False, 'draft': False, 'dissipate': False, 'bits': False, 'sheen': False, 'releases': False, 'that': False, 'alai': False, 'comparable': False, 'brewpub': False, 'veers': False, 'flowery': False, 'ridiculous': False, 'stratospheric': False, 'fooled': False, 'thai': False, 'flowers': False, 'representing': False, 'norcal': False, 'edition': False, 'depressed': False, 'rival': False, 'fruitt': False, 'coats': False, 'future': False, 'apples': False, 'thickens': False, 'winkle': False, 'fizz': False, 'damned': False, 'tannins': False, 'ana': False, 'sam': False, 'tastef': False, 'sumptuous': False, 'craig': False, 'premier': False, 'turned': False, 'shinesnice': False, 'slap': False, 'sad': False, 'woah': False, 'tastes': False, 'taster': False, 'buried': False, 'distorted': False, 'breakfast': False, 'sap': False, 'saw': False, 'dryness': False, 'sat': False, 'lumpy': False, 'hawaiian': False, 'tulip': False, 'undercurrent': False, 'aside': False, 'note': False, 'equipment': False, 'ideal': False, 'take': False, 'forming': False, 'wanting': False, 'relaxed': False, 'topping': False, 'price': False, 'darkish': False, 'palette': False, 'embarcadero': False, 'wintery': False, 'knee': False, 'cleared': False, 'forever': False, 'average': False, 'later': False, 'drive': False, 'tooth': False, 'bender': False, 'macaroon': False, 'backdrop': False, 'refining': False, 'obsidian': False, 'rauch': False, 'woodiness': False, 'affirmed': False, 'cobra': False, 'otherwize': False, 'speakeasy': False, 'cheap': False, 'peaches': False, 'bright': False, 'remnants': False, 'aggressive': False, 'imagined': False, 'ground': False, 'slow': False, 'woos': False, 'punchy': False, 'stained': False, 'texture': False, 'dull': False, 'only': False, 'going': False, 'roustabout': False, 'robe': False, 'shrill': False, 'carolina': False, 'limpio': False, 'year': False, 'samuel': False, 'freezing': False, 'truly': False, 'monde': False, 'cannot': False, 'auburn': False, 'justified': False, 'trappist': False, 'leather': False, 'worried': False, 'craftsmanship': False, 'stupid': False, 'resins': False, 'quickie': False, 'tortilla': False, 'where': False, 'resiny': False, 'reveals': False, 'gulletoverall': False, 'encourages': False, 'station': False, 'notice': False, 'gangster': False, 'anyways': False, 'successive': False, 'impressions': False, 'kinetic': False, 'intoxicating': False, 'mecca': False, 'firestone': False, 'honeydew': False, 'wielding': False, 'crooked': False, 'representatives': False, 'complexion': False, 'sable': False, 'between': False, 'herbal': False, 'enjoys': False, 'recedes': False, 'whipped': False, 'cantaloupe': False, 'smooths': False, 'woodsey': False, 'marietta': False, 'reigns': False, 'joba': False, 'indiscriminate': False, 'spiderweb': False, 'concentrated': False, 'deliciously': False, 'resides': False, 'crisper': False, 'many': False, 'ballpark': False, 'thickly': False, 's': False, 'concentrates': False, 'expression': False, 'comes': False, 'within': False, 'phenomenal': False, 'learning': False, 'moreover': False, 'muttered': False, 'synergize': False, 'olives': False, 'sugariness': False, 'acidity': False, 'cares': False, 'west': False, 'locally': False, 'markedly': False, 'breath': False, 'combined': False, 'wants': False, 'formed': False, 'caclear': False, 'fruits': False, 'stems': False, 'foggy': False, 'ruby': False, 'pattie': False, 'countless': False, 'paying': False, 'these': False, 'bottlecraft': False, 'trick': False, 'guessed': False, 'squeezed': False, 'landslide': False, 'spotlight': False, 'ive': False, 'cigs': False, 'soil': False, 'creamier': False, 'monk': False, 'blah': False, 'broo': False, 'beaver': False, 'wisely': False, 'cacao': False, 'worry': False, 'develop': False, 'slathers': False, 'bowl': False, 'admit': False, 'figuring': False, 'underestimate': False, 'cocoapuph': False, 'lite': False, 'cotton': False, 'inoffensive': False, 'week': False, 'noble': False, 'putin': False, 'deft': False, 'enjoyment': False, 'foam': False, 'ness': False, 'cheers': False, 'capours': False, 'edges': False, 'wired': False, 'favorites': False, 'roasted': False, 'anticipated': False, 'tradition': False, 'complained': False, 'awesomeness': False, 'driftwood': False, 'charges': False, 'refreshingo': False, 'bursts': False, 'costs': False, 'shortbread': False, 'reward': False, 'charged': False, 'heaps': False, 'summer': False, 'guayaba': False, 'they': False, 'being': False, 'excel': False, 'slime': False, 'rest': False, 'recycled': False, 'civilized': False, 'topped': False, 'abrupt': False, 'touch': False, 'co': False, 'barbecued': False, 'cilantro': False, 'mingling': False, 'deceiving': False, 'lended': False, 'thinking': False, 'grillesan': False, 'rosa': False, 'improvement': False, 'guessing': False, 'choclate': False, 'treatment': False, 'foreboding': False, 'prominently': False, 'struck': False, 'bread': False, 'tuesday': False, 'momentum': False, 'real': False, 'aspects': False, 'around': False, 'spectacular': False, 'read': False, 'swig': False, 'sums': False, 'crusts': False, 'dark': False, 'earnest': False, 'traffic': False, 'darn': False, 'gunch': False, 'world': False, 'execution': False, 'lady': False, 'vague': False, 'sensational': False, 'proponent': False, 'fortune': False, 'overhyped': False, 'hamiltons': False, 'roll': False, 'moreno': False, 'hues': False, 'fully': False, 'clap': False, 'twelve': False, 'yeaty': False, 'mojo': False, 'greaaat': False, 'exposed': False, 'duration': False, 'detectible': False, 'slice': False, 'intensifies': False, 'cavity': False, 'cleanses': False, 'cleanser': False, 'bedtime': False, 'cannabis': False, 'exit': False, 'sessionable': False, 'bernardus': False, 'wheat': False, 'zest': False, 'asap': False, 'retains': False, 'raul': False, 'leftover': False, 'exciting': False, 'throw': False, 'comparison': False, 'stone': False, 'subdued': False, 'oj': False, 'industry': False, 'favorite': False, 'inviting': False, 'srm': False, 'boldly': False, 'glassnearly': False, 'oz': False, 'tangling': False, 'unpacks': False, 'fullo': False, 'backup': False, 'slighty': False, 'barrels': False, 'skunky': False, 'marshmallow': False, 'youd': False, 'mas': False, 'retenion': False, 'lively': False, 'shrinking': False, 'savored': False, 'bubbly': False, 'tropical': False, 'area': False, 'aren': False, 'philadelphia': False, 'stark': False, 'mellowed': False, 'los': False, 'poured': False, 'grated': False, 'stars': False, 'dumping': False, 'viscous': False, 'bubble': False, 'immaculate': False, 'overpaid': False, 'complete': False, 'drains': False, 'imbibed': False, 'sonora': False, 'tailored': False, 'greek': False, 'survived': False, 'trying': False, 'with': False, 'amplify': False, 'pull': False, 'rush': False, 'october': False, 'rage': False, 'submitted': False, 'bucket': False, 'unveils': False, 'dirty': False, 'tones': False, 'lifter': False, 'skews': False, 'pulp': False, 'darker': False, 'gone': False, 'russet': False, 'ad': False, 'certain': False, 'accents': False, 'describe': False, 'am': False, 'an': False, 'as': False, 'ar': False, 'au': False, 'at': False, 'av': False, 'trickled': False, 'watched': False, 'moves': False, 'dampens': False, 'cream': False, 'delicioustaste': False, 'ideally': False, 'novice': False, 'aromatic': False, 'tight': False, 'unparalleled': False, 'unfiltered': False, 'piques': False, 'you': False, 'lemongrass': False, 'granmama': False, 'poor': False, 'unrefrigerated': False, 'darthkostrizerpours': False, 'quaffer': False, 'peat': False, 'pear': False, 'slant': False, 'pillowy': False, 'gifts': False, 'herbs': False, 'peak': False, 'madtree': False, 'rafaeli': False, 'roasters': False, 'tricks': False, 'mash': False, 'nelson': False, 'stange': False, 'original': False, 'all': False, 'consider': False, 'riedel': False, 'beware': False, 'ale': False, 'month': False, 'thoughtful': False, 'messy': False, 'follow': False, 'rd': False, 'fizzles': False, 'batches': False, 'hunting': False, 're': False, 'tt': False, 'to': False, 'tail': False, 'chewing': False, 'th': False, 'tg': False, 'midwest': False, 'resounding': False, 'woman': False, 'overpowered': False, 'very': False, 'vanillla': False, 'swallows': False, 'balancing': False, 'decide': False, 'trails': False, 'inherited': False, 'showings': False, 'heaven': False, 'sans': False, 'accompanying': False, 'laying': False, 'joined': False, 'large': False, 'adjust': False, 'lathery': False, 'harry': False, 'small': False, 'tendril': False, 'cookies': False, 'samoa': False, 'fence': False, 'paso': False, 'nearing': False, 'past': False, 'orgasm': False, 'displays': False, 'pass': False, 'otoh': False, 'what': False, 'bomber': False, 'sub': False, 'consumers': False, 'sun': False, 'sum': False, 'deliciousness': False, 'raulmondesi': False, 'anniversary': False, 'hopheads': False, 'thickness': False, 'belching': False, 'succinct': False, 'learned': False, 'plush': False, 'contrast': False, 'hasn': False, 'full': False, 'loose': False, 'certainly': False, 'answers': False, 'hours': False, 'carpinteria': False, 'tracks': False, 'excess': False, 'yummy': False, 'november': False, 'strong': False, 'arena': False, 'loma': False, 'invitational': False, 'creeps': False, 'colored': True, 'conviction': False, 'inspired': False, 'exceptionally': False, 'experience': False, 'prior': False, 'amount': False, 'base': False, 'advertising': False, 'pick': False, 'action': False, 'sweetness': False, 'smuggle': False, 'via': False, 'followed': False, 'family': False, 'souffl': False, 'spiegelau': False, 'marriages': False, 'young': False, 'excellently': False, 'put': False, 'chunky': False, 'arid': False, 'pliny': False, 'chunks': False, 'carbonationfinish': False, 'drippy': False, 'ash': False, 'drunkensloth': False, 'britannia': False, 'contains': False, 'mort': False, 'fragrance': False, 'gorgeous': False, 'mysterious': False, 'more': False, 'chestnut': False, 'lush': False, 'company': False, 'foregone': False, 'site': False, 'excuse': False, 'basically': False, 'broke': False, 'browned': False, 'hurry': False, 'producing': False, 'evolves': False, 'keeping': False, 'hour': False, 'wafts': False, 'malt': True, 'created': False, 'nina': False, 'peche': False, 'indicating': False, 'evolved': False, 'history': False, 'beautiful': False, 'pushes': False, 'stated': False, 'suggestions': False, 'states': False, 'pushed': False, 'salty': False, 'wet': False, 'sense': False, 'gallon': False, 'disliked': False, 'sweetish': False, 'firmly': False, 'huge': False, 'calms': False, 'flawless': False, 'stayed': False, 'surpassed': False, 'snippet': False, 'glowing': False, 'freshly': False, 'cloying': False, 'browns': False, 'woodsy': False, 'kung': False, 'plant': False, 'fu': False, 'herbalt': False, 'variant': False, 'sneak': False, 'tries': False, 'waves': False, 'atreyufan': False, 'backyard': False, 'appealed': False, 'authentic': False, 'a': True, 'refuse': False, 'imagery': False, 'twisting': False, 'pucker': False, 'anytime': False, 'nicethis': False, 'bready': False, 'overcooked': False, 'dream': False, 'abvappearance': False, 'greats': False, 'mexican': False, 'help': False, 'magalia': False, 'soon': False, 'mousse': False, 'trade': False, 'held': False, 'mugfrom': False, 'helf': False, 'dipathanks': False, 'brim': False, 'signs': False, 'hell': False, 'smiling': False, 'its': False, 'greatm': False, 'bummed': False, 'laced': False, 'licks': False, 'rapidly': False, 'chalkinesspalate': False, 'pronto': False, 'whiskey': False, 'teeming': False, 'actually': False, 'layerlacing': False, 'laces': False, 'nifty': False, 'founders': False, 'peanuts': False, 'cutie': False, 'sauce': False, 'especailly': False, 'hoptastic': False, 'evening': False, 'somebody': False, 'colortropical': False, 'sucker': False, 'impossible': False, 'yd': False, 'floating': False, 'caserved': False, 'nestles': False, 'starbucks': False, 'lightens': False, 'weedy': False, 'sucked': False, 'stewed': False, 'reassured': False, 'yellowy': False, 'everytime': False, 'always': False, 'loosely': False, 'bless': False, 'ecru': False, 'cato': False, 'found': False, 'griff': False, 'heavy': False, 'tanginess': False, 'overspiced': False, 'trb': False, 'england': False, 'mental': False, 'undetectable': False, 'gun': False, 'finish': False, 'evens': False, 'beyond': False, 'event': False, 'really': False, 'silky': False, 'dominates': False, 'missed': False, 'slammable': False, 'since': False, 'research': False, 'dominated': False, 'atwater': False, 'issue': False, 'humble': False, 'ass': False, 'quicks': False, 'anotherjoe': False, 'belief': False, 'dirt': False, 'vibe': False, 'horse': False, 'pub': False, 'reason': False, 'pitfalls': False, 'pliney': True, 'dire': False, 'imagine': False, 'ask': False, 'rises': False, 'guy': False, 'revolutionary': False, 'definition': False, 'pairs': False, 'retained': False, 'perceptible': False, 'terrible': False, 'pawsi': False, 'american': False, 'fruit': False, 'expecting': False, 'sensations': False, 'w': False, 'major': False, 'forwards': False, 'upper': False, 'doughnuts': False, 'number': False, 'elder': True, 'unexpected': False, 'dominating': False, 'ethereal': False, 'blank': False, 'miss': False, 'maple': False, 'guess': False, 'fuller': False, 'jet': False, 'blossom': False, 'interwoven': False, 'brisket': False, 'moderately': False, 'heady': False, 'pinned': False, 'hotd': False, 'dfh': False, 'saint': False, 'penetrates': False, 'nuttiness': False, 'headm': False, 'hundred': False, 'banana': False, 'floaties': False, 'bitternessbest': False, 'warmly': False, 'semisweet': False, 'immediate': False, 'discover': False, 'mmmm': False, 'shifter': False, 'blindly': False, 'focusing': False, 'albums': False, 'obrians': False, 'grocery': False, 'grew': False, 'aaa': False, 'refilling': False, 'fuzziness': False, 'anticipate': False, 'grey': False, 'underpinning': False, 'unadulterated': False, 'microbrews': False, 'seamlessly': False, 'toward': False, 'stickiness': False, 'wasnt': False, 'canceling': False, 'overstate': False, 'juicy': False, 'waft': False, 'juice': False, 'substantial': False, 'blond': False, 'philly': False, 'lid': False, 'ratings': False, 'stemless': False, 'lil': False, 'also': False, 'lip': False, 'showcases': False, 'failing': False, 'unremarkable': False, 'play': False, 'crackerish': False, 'athanks': False, 'nasal': False, 'mace': False, 'experiences': False, 'complementing': False, 'darts': False, 'alpha': False, 'colliding': False, 'feeloverall': False, 'basal': False, 'quorum': False, 'sturdy': False, 'higlights': False, 'sometimes': False, 'nibs': False, 'creeks': False, 'exp': False, 'gabf': False, 'barrel': False, 'blend': False, 'hips': False, 'gold': False, 'blended': False, 'brunus': False, 'boozy': False, 'meticulously': False, 'booze': False, 'session': False, 'speiglau': False, 'hyped': False, 'impressively': False, 'velvety': False, 'coaster': False, 'overwhelmed': False, 'growler': False, 'impact': False, 'oaky': False, 'wraps': False, 'justice': False, 'sharing': False, 'less': False, 'chiquita': False, 'kruthar': False, 'flights': False, 'juicyfruit': False, 'pretty': False, 'factor': False, 'apprentice': False, 'giants': False, 'molasess': False, 'dominant': False, 'hopsickle': False, 'famous': False, 'feels': False, 'closely': False, 'palete': False, 'contenttaste': False, 'during': False, 'distraction': False, 'catches': False, 'exhibiting': False, 'alchohol': False, 'boost': False, 'generally': False, 'perfumy': False, 'caramel': False, 'bottleshop': False, 'hype': False, 'x': False, 'vaginataste': False, 'river': False, 'insane': False, 'becher': False, 'delicately': False, 'set': False, 'art': False, 'overwhelm': False, 'sipm': False, 'jade': False, 'ounces': False, 'potent': False, 'sex': False, 'crackly': False, 'flavours': False, 'professional': False, 'descriptions': False, 'sea': False, 'sips': False, 'close': False, 'thinnish': False, 'slam': False, 'hibiscus': False, 'trey': False, 'spirits': False, 'muted': False, 'distinctive': False, 'wow': False, 'currently': False, 'pickup': False, 'won': False, 'amalgam': False, 'acidic': False, 'nope': False, 'monsters': False, 'compliment': False, 'mutes': False, 'available': False, 'carbonated': False, 'recently': False, 'sparsely': False, 'missing': False, 'brewing': False, 'bwood': False, 'spray': False, 'smoldering': False, 'stale': False, 'both': False, 'unapologetic': False, 'tangible': False, 'mega': False, 'raspberries': False, 'barely': False, 'sensitive': False, 'improves': False, 'buzz': False, 'cahazed': False, 'whole': False, 'groundworks': False, 'patty': False, 'loaf': False, 'drunk': False, 'liken': False, 'northeastern': False, 'community': False, 'hollow': False, 'dimensional': False, 'likes': False, 'scottish': False, 'vessel': False, 'iipas': False, 'along': False, 'arsenal': False, 'hitting': False, 'describes': False, 'damn': False, 'coarse': False, 'territory': False, 'empty': False, 'firm': False, 'resting': False, 'alongside': False, 'partly': False, 'champion': False, 'packs': False, 'fire': False, 'mildness': False, 'drinkability': False, 'packy': False, 'else': False, 'complements': False, 'lives': False, 'representative': False, 'murietta': False, 'funk': False, 'extracted': False, 'dipas': False, 'soiled': False, 'look': False, 'exponential': False, 'caged': False, 'straight': False, 'rope': False, 'forgetting': False, 'while': False, 'leaning': False, 'ipasf': False, 'loop': False, 'pack': False, 'pound': False, 'hoping': False, 'arching': False, 'backing': False, 'reads': False, 'minneola': False, 'centennial': False, 'triple': False, 'beautifully': False, 'ready': False, 'hyperbole': False, 'funny': False, 'anymore': False, 'belong': False, 'virtually': False, 'grand': False, 'shal': False, 'used': False, 'weakenshead': False, 'lie': False, 'bonus': False, 'alert': False, 'levels': False, 'uses': False, 'gonna': False, 'realm': False, 'assortment': False, 'infamous': False, 'recent': False, 'redlands': False, 'picky': False, 'older': False, 'flirts': False, 'knb': False, 'increases': False, 'toronado': False, 'picks': False, 'person': False, 'consistency': False, 'swiss': False, 'five': False, 'chemistry': False, 'latter': False, 'distances': False, 'chore': False, 'salvo': False, 'detract': False, 'overflows': False, 'aroma': False, 'devastatingly': False, 'churchill': False, 'hermosillo': False, 'using': False, 'regardless': False, 'throaty': False, 'goblet': False, 'hued': False, 'swallowing': False, 'admission': False, 'danky': False, 'eager': False, 'snappy': False, 'ahppened': False, 'surprised': False, 'silken': False, 'march': False, 'stein': False, 'couple': False, 'albino': False, 'suffering': False, 'hitters': False, 'abound': False, 'translucent': False, 'outright': False, 'd': False, 'pillar': False, 'finishmouthfeel': False, 'consensus': False, 'continue': False, 'yields': False, 'popular': False, 'softness': False, 'parade': False, 'spring': False, 'creation': False, 'some': False, 'bounce': False, 'lips': False, 'caliber': False, 'mighty': False, 'pricing': False, 'sight': False, 'lingers': False, 'curious': False, 'pale': False, 'delivered': False, 'novelty': False, 'finge': False, 'slighest': False, 'quote': False, 'dating': False, 'minimal': False, 't': True, 'be': False, 'eating': False, 'ba': False, 'bb': False, 'bc': False, 'grannies': False, 'bo': False, 'lakes': False, 'stem': False, 'lasts': False, 'sante': False, 'bp': False, 'concealed': False, 'santa': False, 'almaden': False, 'tidal': False, 'raspberry': False, 'by': False, 'shine': False, 'cranked': False, 'shing': False, 'anything': False, 'tracing': False, 'tartness': False, 'waltham': False, 'deserves': False, 'agave': False, 'classics': False, 'shiny': False, 'silence': False, 'colorado': False, 'hometown': False, 'recreate': False, 'awaited': False, 'miranda': False, 'appropriate': False, 'primarily': False, 'rolls': False, 'smells': False, 'sneaky': False, 'cellermaker': False, 'live': False, 'submit': False, 'custom': False, 'pipeworks': False, 'suit': False, 'aftertaste': False, 'opens': False, 'considerably': False, 'receiving': False, 'inches': False, 'refrigerate': False, 'chocolately': False, 'atop': False, 'vehicle': False, 'buttery': False, 'specialty': False, 'game': False, 'newer': False, 'russian': False, 'line': False, 'considerable': False, 'fades': False, 'ringlet': False, 'alehouse': False, 'up': False, 'us': False, 'um': False, 'paired': False, 'uh': False, 'faded': False, 'continuously': False, 'hornes': False, 'wicked': False, 'chelsea': False, 'clear': False, 'uber': False, 'archers': False, 'ordered': False, 'chad': False, 'chai': False, 'influence': False, 'doesn': False, 'char': False, 'diverse': False, 'maltballesque': False, 'presides': False, 'evocative': False, 'parsed': False, 'defines': False, 'amounts': False, 'nah': False, 'lacesmell': False, 'cohesive': False, 'tits': False, 'swirl': False, 'pubpoured': False, 'tart': False, 'grassiness': False, 'draw': False, 'elements': False, 'clean': False, 'beginnings': False, 'motuhfeel': False, 'kansas': False, 'faintly': False, 'doradosimcoetbaamarilloedit': False, 'prepared': False, 'evan': False, 'tropicality': False, 'sides': False, 'ago': False, 'hells': False, 'lane': False, 'land': False, 'e': False, 'wafer': False, 'practically': False, 'age': False, 'required': False, 'hopsm': False, 'hopso': False, 'ffac': False, 'depth': False, 'summit': False, 'came': False, 'walker': False, 'fresh': False, 'underrated': False, 'berries': False, 'convert': False, 'having': False, 'evenly': False, 'code': False, 'partial': False, 'melts': False, 'broaden': False, 'results': False, 'soften': False, 'enjoyable': False, 'softer': False, 'ga': False, 'freakin': False, 'go': True, 'barbecue': False, 'churned': False, 'seemed': False, 'compact': False, 'acerbic': False, 'glows': False, 'glowy': False, 'send': False, 'uniqueness': False, 'dislike': False, 'whisky': False, 'friendly': False, 'sent': False, 'schooner': False, 'stocked': False, 'scorched': False, 'continues': False, 'wave': False, 'astringentcy': False, 'mixing': False, 'tri': False, 'magic': False, 'abecall': False, 'stiff': False, 'experiencing': False, 'gettin': False, 'eve': False, 'fewer': False, 'try': False, 'barbara': False, 'keene': False, 'cap': False, 'veggies': False, 'overshadows': False, 'jump': False, 'picked': False, 'odd': False, 'ode': False, 'plays': False, 'mintiness': False, 'portola': False, 'opaque': False, 'delicous': False, 'espresso': False, 'expressed': False, 'sweaty': False, 'consistently': False, 'experiment': False, 'pricklyo': False, 'bird': False, 'lacings': False, 'counterbalancing': False, 'focuses': False, 'lee': False, 'leg': False, 'commercial': False, 'punch': False, 'delivering': False, 'highly': False, 'following': False, 'let': False, 'pancake': False, 'consideration': False, 'fifteen': False, 'great': False, 'receive': False, 'involved': False, 'reminiscent': False, 'resulting': False, 'opinion': False, 'makes': False, 'thats': False, 'snootful': False, 'showing': False, 'waxiness': False, 'wil': False, 'oaklandsimply': False, 'ratcheted': False, 'gimmick': False, 'comers': False, 'cloud': False, 'handfuls': False, 'standing': False, 'chocolatey': False, 'crap': False, 'remains': False, 'characterful': False, 'chocolates': False, 'chocolatet': False, 'next': False, 'eleven': False, 'doubt': False, 'taproom': False, 'hiding': False, 'chip': False, 'reflects': False, 'belgian': False, 'popped': False, 'started': False, 'initial': False, 'tons': False, 'benchmark': False, 'sharply': False, 'baby': False, 'gladly': False, 'charity': False, 'salad': False, 'heard': False, 'this': True, 'sounded': False, 'pour': False, 'palmslook': False, 'archer': False, 'crossed': False, 'thin': True, 'shelton': False, 'meet': False, 'chinook': False, 'drops': False, 'control': False, 'dregs': False, 'weaker': False, 'bent': False, 'process': False, 'hiatus': False, 'coolness': False, 'slim': False, 'halloween': False, 'purposes': False, 'high': False, 'pulling': False, 'briens': False, 'suds': False, 'sought': False, 'wonderful': False, 'protip': False, 'paws': False, 'stemmed': False, 'hesitate': False, 'beerrun': False, 'destroying': False, 'restrained': False, 'procured': False, 'insistent': False, 'wolf': False, 'pasilla': False, 'pales': False, 'greatly': False, 'watery': False, 'yellowish': False, 'blocks': False, 'singular': False, 'billowy': False, 'fark': False, 'fatigue': False, 'tier': False, 'tomato': False, 'spatters': False, 'gulps': False, 'catty': False, 'accenting': False, 'fortunately': False, 'pungently': False, 'bakers': False, 'craggy': False, 'fallowed': False, 'thigh': False, 'produces': False, 'wit': False, 'move': False, 'produced': False, 'combinations': False, 'including': False, 'cruise': False, 'mentioned': False, 'apurchased': False, 'mouthskin': False, 'perfect': False, 'blake': False, 'decay': False, 'varies': False, 'walnut': False, 'degrees': False, 'freshley': False, 'shy': False, 'designs': False, 'animal': False, 'dab': False, 'runs': False, 'property': False, 'kiss': False, 'hands': False, 'front': False, 'rotation': False, 'realize': False, 'coriander': False, 'sweetnesst': False, 'hallmarks': False, 'installment': False, 'dissipatess': False, 'merge': False, 'delightful': False, 'betty': False, 'truth': False, 'astringently': False, 'accompanied': False, 'beneath': False, 'traces': False, 'glasses': False, 'withf': False, 'beginner': False, 'abrasive': False, 'bump': False, 'chunk': False, 'citric': False, 'societe': False, 'society': False, 'books': False, 'sandy': False, 'henhouse': False, 'amberish': False, 'borderline': False, 'confess': False, 'stayin': False, 'superbly': False, 'playground': False, 'headrushonly': False, 'toastiness': False, 'calif': False, 'sacrifice': False, 'shut': False, 'undated': False, 'interactions': False, 'southern': False, 'darkly': False, 'temps': False, 'completely': False, 'ect': False, 'surely': False, 'early': False, 'dubbel': False, 'gifting': False, 'could': False, 'florida': False, 'timer': False, 'david': False, 'counterpart': False, 'length': False, 'keel': False, 'pudding': False, 'davis': False, 'terrific': False, 'receding': False, 'invisible': False, 'piney': False, 'pairing': False, 'blown': False, 'viscosity': False, 'scene': False, 'ciders': False, 'pinet': False, 'fits': False, 'bitch': False, 'affliction': False, 'owner': False, 'blows': False, 'enjoyin': False, 'scent': False, 'fella': False, 'long': False, 'fair': False, 'start': False, 'festival': False, 'durable': False, 'lacing': False, 'perfectly': False, 'final': False, 'low': False, 'pervasive': False, 'malibu': False, 'vigorous': False, 'lot': False, 'jesus': False, 'fizzes': False, 'breadier': False, 'exactly': False, 'shorty': False, 'lists': False, 'approachable': False, 'fuzzy': False, 'overwhelming': False, 'elite': False, 'haven': False, 'remember': False, 'steel': False, 'ben': False, 'kevsal': False, 'cara': False, 'bother': False, 'splotches': False, 'extraordinarily': False, 'whenever': False, 'appealing': False, 'staking': False, 'providing': False, 'steep': False, 'sultry': False, 'bet': False, 'shrinks': False, 'lightly': False, 'deciccio': False, 'gently': False, 'tonight': False, 'gentle': False, 'need': False, 'element': False, 'border': False, 'clearly': False, 'sings': False, 'bastard': False, 'heft': False, 'soak': False, 'scoop': False, 'able': False, 'purchasing': False, 'impecable': False, 'adjunct': False, 'cherries': False, 'sh': False, 'flourless': False, 'mikasa': False, 'truck': False, 'seductive': False, 'soap': False, 'crept': False, 'aww': False, 'gooseberries': False, 'delayed': False, 'petals': False, 'courtesy': False, 'energise': False, 'midpalate': False, 'medal': False, 'folgers': False, 'undeniable': False, 'bred': False, 'locust': False, 'thanksgiving': False, 'brea': False, 'face': False, 'prickly': False, 'artificially': False, 'mechanical': False, 'brew': False, 'typical': False, 'fact': False, 'mocha': True, 'impression': False, 'emerging': False, 'oreos': False, 'anyway': False, 'bring': False, 'papayafeel': False, 'rough': False, 'partners': False, 'burnished': False, 'based': False, 'jay': False, 'hops': False, 'winner': False, 'jar': False, 'woo': False, 'receptors': False, 'should': False, 'brighter': False, 'jam': False, 'creamer': False, 'jai': False, 'bourbon': False, 'becasue': False, 'tangelos': False, 'hope': False, 'andslight': False, 'handle': False, 'funkier': False, 'means': False, 'familiar': False, 'michigan': False, 'larrrrrrge': False, 'overall': False, 'lucky': False, 'sipping': False, 'joint': False, 'molasses': False, 'probably': False, 'wring': False, 'fews': False, 'evident': False, 'tobacco': False, 'ended': False, 'wheelhouse': False, 'stuff': False, 'nutmeg': False, 'contain': False, 'ohio': False, 'grab': False, 'spotted': False, 'withstand': False, 'btw': False, 'milder': False, 'apearance': False, 'pitch': False, 'bte': False, 'travis': False, 'legacy': False, 'powder': False, 'desperate': False, 'overtones': False, 'churro': False, 'packed': False, 'denogginizer': False, 'harvested': False, 'fluff': False, 'tend': False, 'written': False, 'melrose': False, 'correctly': False, 'masking': False, 'neither': False, 'zeitgeist': False, 'ends': False, 'explosive': False, 'barreling': False, 'munching': False, 'importance': False, 'butts': False, 'vatechhophead': False, 'merry': False, 'melds': False, 'reappears': False, 'distribution': False, 'kep': False, 'hits': False, 'figured': False, 'sniff': False, 'spritzes': False, 'spritzer': False, 'galore': False, 'trips': False, 'etc': False, 'sugared': False, 'streams': False, 'cinder': False, 'invites': False, 'ck': False, 'gasp': False, 'ch': False, 'habaneno': False, 'wtf': False, 'cm': False, 'cl': False, 'ca': True, 'oilyoverall': False, 'penetrating': False, 'soy': False, 'genre': False, 'encinitas': False, 'crafted': False, 'kings': False, 'oakland': False, 'balances': False, 'quit': False, 'inhale': False, 'yay': False, 'attraction': False, 'addition': False, 'sara': False, 'elmer': False, 'rhode': False, 'drank': False, 'slowly': False, 'treat': False, 'feather': False, 'ballast': False, 'senses': False, 'controlled': False, 'kickm': False, 'moved': False, 'releasing': False, 'varietal': False, 'mexicanus': False, 'accident': False, 'roasting': False, 'last': False, 'toasting': False, 'ultra': False, 've': False, 'bourbony': False, 'insanely': False, 'bourbons': False, 'surprisingly': False, 'vs': False, 'vt': False, 'sits': False, 'impervious': False, 'agdal': False, 'nerd': False, 'apricots': False, 'strange': False, 'digging': False, 'skipping': False, 'ball': False, 'complemented': False, 'grapefruittaste': False, 'drink': False, 'upon': False, 'abounds': False, 'coffe': False, 'dust': False, 'mosaic': False, 'carbonatin': False, 'disappears': False, 'colour': False, 'patterns': False, 'experimental': False, 'drawing': False, 'caramelized': False, 'latest': False, 'newest': False, 'legendary': False, 'flesh': False, 'moments': False, 'liked': False, 'clocks': False, 'citrusy': False, 'rooms': False, 'paul': False, 'generous': False, 'now': True, 'bracing': False, 'wee': False, 'jeff': False, 'sky': False, 'transparent': False, 'lattice': False, 'combine': False, 'halo': False, 'crack': False, 'ought': False, 'checking': False, 'haus': False, 'whispers': False, 'cruz': False, 'royalty': False, 'cedar': False, 'whatever': False, 'belgium': False, 'tick': False, 'crisp': False, 'streaks': False, 'onion': False, 'criss': False, 'bev': False, 'stashing': False, 'resin': False, 'become': False, 'sourdough': False, 'drop': False, 'bblon': False, 'thief': False, 'alive': False, 'watered': False, 'amooth': False, 'gymnastics': False, 'peaty': False, 'flush': False, 'thier': False, 'focused': False, 'literally': False, 'avoid': False, 'slide': False, 'does': False, 'passion': False, 'flavorwise': False, 'speak': False, 'blowing': False, 'selecting': False, 'brewhouse': False, 'derived': False, 'stage': False, 'gained': False, 'angeles': False, 'coachman': False, 'blackness': False, 'upward': False, 'robustus': False, 'woodshop': False, 'sharpness': False, 'shoppe': False, 'crystalline': False, 'mere': False, 'grapfruit': False, 'spots': False, 'accentuate': False, 'beverage': False, 'coke': False, 'delivery': False, 'grate': False, 'delivers': False, 'behemoth': False, 'bdoubleedoublerun': False, 'wish': False, 'zeus': False, 'official': False, 'smooth': True, 'placed': False, 'convince': False, 'boneyard': False, 'problem': False, 'bearing': False, 'irish': False, 'contribute': False, 'slowing': False, 'lived': False, 'ink': False, 'happen': False, 'compared': False, 'improving': False, 'variety': False, 'lately': False, 'compares': False, 'er': False, 'predominant': False, 'outlines': False, 'francisco': False, 'handfull': False, 'chance': False, 'badass': False, 'molassas': False, 'inspiration': False, 'unspeakably': False, 'described': False, 'ranks': False, 'lasted': False, 'rule': False, 'lift': False, 'compete': False, 'copperfield': False, 'searched': False, 'compromised': False}\n"
     ]
    }
   ],
   "source": [
    "word_features = list(all_words.keys())[:3000]\n",
    "\n",
    "def find_features(beer_review):\n",
    "    words = set(beer_review)\n",
    "    features = {}\n",
    "    for w in word_features:\n",
    "        features[w] = (w in words) # boolean assignment\n",
    "    return features\n",
    "print find_features(malty_reviews[0][0])"
   ]
  },
  {
   "cell_type": "code",
   "execution_count": 12,
   "metadata": {
    "collapsed": false
   },
   "outputs": [],
   "source": [
    "featuresets = [(find_features(rev),category) for (rev,category) in beer_reviews]\n",
    "training_set = featuresets[:500]\n",
    "testing_set = featuresets[500:]"
   ]
  },
  {
   "cell_type": "markdown",
   "metadata": {},
   "source": [
    "# Bayes Classifier"
   ]
  },
  {
   "cell_type": "markdown",
   "metadata": {},
   "source": [
    "## Train the classifier"
   ]
  },
  {
   "cell_type": "code",
   "execution_count": 13,
   "metadata": {
    "collapsed": false
   },
   "outputs": [],
   "source": [
    "classifier = nltk.NaiveBayesClassifier.train(training_set)"
   ]
  },
  {
   "cell_type": "markdown",
   "metadata": {},
   "source": [
    "## Run the classifier on the testing set, determine accuracy"
   ]
  },
  {
   "cell_type": "code",
   "execution_count": 14,
   "metadata": {
    "collapsed": false
   },
   "outputs": [
    {
     "name": "stdout",
     "output_type": "stream",
     "text": [
      "Naive Bayes Algo % accuracy: 95.2\n",
      "Most Informative Features\n",
      "                  coffee = True           not_ip : ipa    =     93.9 : 1.0\n",
      "                tropical = True              ipa : not_ip =     56.0 : 1.0\n",
      "              grapefruit = True              ipa : not_ip =     51.6 : 1.0\n",
      "                     ipa = True              ipa : not_ip =     28.6 : 1.0\n",
      "                 roasted = True           not_ip : ipa    =     22.6 : 1.0\n",
      "                  roasty = True           not_ip : ipa    =     22.5 : 1.0\n",
      "                  fruity = True              ipa : not_ip =     15.5 : 1.0\n",
      "                   mocha = True           not_ip : ipa    =     15.1 : 1.0\n",
      "                    dark = True           not_ip : ipa    =      9.8 : 1.0\n",
      "                   piney = True              ipa : not_ip =      9.3 : 1.0\n",
      "                  barrel = True           not_ip : ipa    =      9.0 : 1.0\n",
      "                      so = True              ipa : not_ip =      9.0 : 1.0\n",
      "                    pale = True              ipa : not_ip =      9.0 : 1.0\n",
      "                 toasted = True           not_ip : ipa    =      8.9 : 1.0\n",
      "                      by = True              ipa : not_ip =      8.3 : 1.0\n",
      "                    base = True           not_ip : ipa    =      7.9 : 1.0\n",
      "                    char = True           not_ip : ipa    =      7.7 : 1.0\n",
      "                  toffee = True           not_ip : ipa    =      7.7 : 1.0\n",
      "                  bright = True              ipa : not_ip =      7.6 : 1.0\n",
      "                  opaque = True           not_ip : ipa    =      7.3 : 1.0\n",
      "                   silky = True           not_ip : ipa    =      7.1 : 1.0\n",
      "                  grassy = True              ipa : not_ip =      6.9 : 1.0\n",
      "                  bready = True              ipa : not_ip =      6.9 : 1.0\n",
      "                     hop = True              ipa : not_ip =      6.9 : 1.0\n",
      "                  golden = True              ipa : not_ip =      6.6 : 1.0\n",
      "                   cream = True           not_ip : ipa    =      6.5 : 1.0\n",
      "               hoppiness = True              ipa : not_ip =      6.1 : 1.0\n",
      "                   coats = True              ipa : not_ip =      5.4 : 1.0\n",
      "               available = True              ipa : not_ip =      5.4 : 1.0\n",
      "                 ballast = True           not_ip : ipa    =      5.2 : 1.0\n",
      "                    gold = True              ipa : not_ip =      5.2 : 1.0\n",
      "                    west = True              ipa : not_ip =      5.0 : 1.0\n",
      "                   clear = True              ipa : not_ip =      4.9 : 1.0\n",
      "                    hops = True              ipa : not_ip =      4.8 : 1.0\n",
      "                  fruits = True              ipa : not_ip =      4.7 : 1.0\n",
      "              aggressive = True              ipa : not_ip =      4.7 : 1.0\n",
      "                  powder = True           not_ip : ipa    =      4.6 : 1.0\n",
      "                   edges = True           not_ip : ipa    =      4.6 : 1.0\n",
      "                    bomb = True              ipa : not_ip =      4.5 : 1.0\n",
      "                    held = True           not_ip : ipa    =      4.2 : 1.0\n",
      "                   clean = True              ipa : not_ip =      4.0 : 1.0\n",
      "                remember = True           not_ip : ipa    =      4.0 : 1.0\n",
      "                 sweeter = True           not_ip : ipa    =      4.0 : 1.0\n",
      "                  brings = True           not_ip : ipa    =      4.0 : 1.0\n",
      "              chocolatey = True           not_ip : ipa    =      4.0 : 1.0\n",
      "                   extra = True           not_ip : ipa    =      4.0 : 1.0\n",
      "                    face = True              ipa : not_ip =      4.0 : 1.0\n",
      "                    tart = True              ipa : not_ip =      4.0 : 1.0\n",
      "               providing = True              ipa : not_ip =      4.0 : 1.0\n",
      "                   hours = True              ipa : not_ip =      4.0 : 1.0\n",
      "                 dryness = True              ipa : not_ip =      4.0 : 1.0\n",
      "                   green = True              ipa : not_ip =      4.0 : 1.0\n",
      "                   lived = True              ipa : not_ip =      4.0 : 1.0\n",
      "                   blast = True              ipa : not_ip =      4.0 : 1.0\n",
      "                   fruit = True              ipa : not_ip =      3.9 : 1.0\n",
      "                standard = True           not_ip : ipa    =      3.9 : 1.0\n",
      "               certainly = True              ipa : not_ip =      3.7 : 1.0\n",
      "                     all = True              ipa : not_ip =      3.7 : 1.0\n",
      "                  prefer = True              ipa : not_ip =      3.6 : 1.0\n",
      "                   toast = True           not_ip : ipa    =      3.5 : 1.0\n",
      "                smelling = True           not_ip : ipa    =      3.4 : 1.0\n",
      "                 initial = True           not_ip : ipa    =      3.4 : 1.0\n",
      "                strength = True           not_ip : ipa    =      3.4 : 1.0\n",
      "                  course = True           not_ip : ipa    =      3.4 : 1.0\n",
      "                   booze = True           not_ip : ipa    =      3.4 : 1.0\n",
      "                  sierra = True           not_ip : ipa    =      3.4 : 1.0\n",
      "                  people = True              ipa : not_ip =      3.2 : 1.0\n",
      "                 smelled = True              ipa : not_ip =      3.2 : 1.0\n",
      "                 pungent = True              ipa : not_ip =      3.2 : 1.0\n",
      "                   heady = True              ipa : not_ip =      3.2 : 1.0\n",
      "               intensely = True              ipa : not_ip =      3.2 : 1.0\n",
      "                 closely = True              ipa : not_ip =      3.2 : 1.0\n",
      "            consistently = True              ipa : not_ip =      3.2 : 1.0\n",
      "                   later = True              ipa : not_ip =      3.2 : 1.0\n",
      "                    ends = True              ipa : not_ip =      3.2 : 1.0\n",
      "                    rich = True           not_ip : ipa    =      3.2 : 1.0\n",
      "                    near = True           not_ip : ipa    =      3.2 : 1.0\n",
      "                   worth = True              ipa : not_ip =      3.1 : 1.0\n",
      "                     hot = True           not_ip : ipa    =      3.0 : 1.0\n",
      "                 growler = True              ipa : not_ip =      3.0 : 1.0\n",
      "                 colored = True           not_ip : ipa    =      2.9 : 1.0\n",
      "                   stone = True              ipa : not_ip =      2.9 : 1.0\n",
      "                  bottom = True              ipa : not_ip =      2.8 : 1.0\n",
      "                    seek = True              ipa : not_ip =      2.8 : 1.0\n",
      "               dominated = True           not_ip : ipa    =      2.8 : 1.0\n",
      "                   large = True           not_ip : ipa    =      2.8 : 1.0\n",
      "                   bread = True           not_ip : ipa    =      2.8 : 1.0\n",
      "             substantial = True           not_ip : ipa    =      2.8 : 1.0\n",
      "                    pack = True           not_ip : ipa    =      2.8 : 1.0\n",
      "                 feeling = True           not_ip : ipa    =      2.8 : 1.0\n",
      "                   night = True           not_ip : ipa    =      2.8 : 1.0\n",
      "                    kiss = True           not_ip : ipa    =      2.8 : 1.0\n",
      "                     put = True           not_ip : ipa    =      2.8 : 1.0\n",
      "                 example = True           not_ip : ipa    =      2.8 : 1.0\n",
      "                    move = True           not_ip : ipa    =      2.8 : 1.0\n",
      "                      ba = True           not_ip : ipa    =      2.8 : 1.0\n",
      "               dominates = True           not_ip : ipa    =      2.8 : 1.0\n",
      "                   laces = True           not_ip : ipa    =      2.8 : 1.0\n",
      "              highlights = True           not_ip : ipa    =      2.8 : 1.0\n",
      "                   crisp = True              ipa : not_ip =      2.7 : 1.0\n",
      "                  bubble = True              ipa : not_ip =      2.5 : 1.0\n",
      "                 clearly = True              ipa : not_ip =      2.5 : 1.0\n",
      "               typically = True              ipa : not_ip =      2.5 : 1.0\n",
      "                      us = True              ipa : not_ip =      2.5 : 1.0\n",
      "                      sd = True              ipa : not_ip =      2.5 : 1.0\n",
      "                possible = True              ipa : not_ip =      2.5 : 1.0\n",
      "                 acidity = True              ipa : not_ip =      2.5 : 1.0\n",
      "               following = True              ipa : not_ip =      2.5 : 1.0\n",
      "               juiciness = True              ipa : not_ip =      2.5 : 1.0\n",
      "                  market = True              ipa : not_ip =      2.5 : 1.0\n",
      "                  notice = True              ipa : not_ip =      2.5 : 1.0\n",
      "                   wrong = True              ipa : not_ip =      2.5 : 1.0\n",
      "                 retains = True              ipa : not_ip =      2.5 : 1.0\n",
      "             spectacular = True              ipa : not_ip =      2.5 : 1.0\n",
      "                    fuck = True              ipa : not_ip =      2.5 : 1.0\n",
      "                   based = True              ipa : not_ip =      2.5 : 1.0\n",
      "                    only = True              ipa : not_ip =      2.5 : 1.0\n",
      "               exploding = True              ipa : not_ip =      2.5 : 1.0\n",
      "                 glasses = True              ipa : not_ip =      2.5 : 1.0\n",
      "                     ass = True              ipa : not_ip =      2.5 : 1.0\n",
      "                    wave = True              ipa : not_ip =      2.5 : 1.0\n",
      "                   chill = True              ipa : not_ip =      2.5 : 1.0\n",
      "                   forth = True              ipa : not_ip =      2.5 : 1.0\n",
      "                    slow = True              ipa : not_ip =      2.5 : 1.0\n",
      "                    sips = True              ipa : not_ip =      2.5 : 1.0\n",
      "                  taster = True              ipa : not_ip =      2.5 : 1.0\n",
      "                   lucky = True              ipa : not_ip =      2.5 : 1.0\n",
      "                    kern = True              ipa : not_ip =      2.5 : 1.0\n",
      "                  swaths = True              ipa : not_ip =      2.5 : 1.0\n",
      "                american = True           not_ip : ipa    =      2.5 : 1.0\n",
      "                    line = True              ipa : not_ip =      2.5 : 1.0\n",
      "                molasses = True           not_ip : ipa    =      2.4 : 1.0\n",
      "                   could = True           not_ip : ipa    =      2.4 : 1.0\n",
      "                     non = True           not_ip : ipa    =      2.4 : 1.0\n",
      "                  months = True           not_ip : ipa    =      2.4 : 1.0\n",
      "               qualities = True           not_ip : ipa    =      2.4 : 1.0\n",
      "                    hits = True           not_ip : ipa    =      2.4 : 1.0\n",
      "                     pub = True           not_ip : ipa    =      2.4 : 1.0\n",
      "                 velvety = True           not_ip : ipa    =      2.4 : 1.0\n",
      "                  coffee = False             ipa : not_ip =      2.4 : 1.0\n",
      "                    huge = True              ipa : not_ip =      2.4 : 1.0\n",
      "                   noble = True              ipa : not_ip =      2.4 : 1.0\n",
      "                    fact = True              ipa : not_ip =      2.4 : 1.0\n",
      "                  drying = True              ipa : not_ip =      2.4 : 1.0\n",
      "              phenomenal = True              ipa : not_ip =      2.4 : 1.0\n",
      "                 brewing = True           not_ip : ipa    =      2.4 : 1.0\n",
      "                  topped = True              ipa : not_ip =      2.3 : 1.0\n",
      "                   hands = True              ipa : not_ip =      2.3 : 1.0\n",
      "                    live = True              ipa : not_ip =      2.3 : 1.0\n",
      "                     has = True              ipa : not_ip =      2.3 : 1.0\n",
      "                  second = True              ipa : not_ip =      2.3 : 1.0\n",
      "                    thin = True           not_ip : ipa    =      2.3 : 1.0\n",
      "                      an = True           not_ip : ipa    =      2.3 : 1.0\n",
      "                    able = True           not_ip : ipa    =      2.2 : 1.0\n",
      "                  fairly = True           not_ip : ipa    =      2.2 : 1.0\n",
      "                    tons = True              ipa : not_ip =      2.2 : 1.0\n",
      "                   order = True           not_ip : ipa    =      2.2 : 1.0\n",
      "                    gone = True           not_ip : ipa    =      2.2 : 1.0\n",
      "                stronger = True           not_ip : ipa    =      2.2 : 1.0\n",
      "                   leave = True           not_ip : ipa    =      2.2 : 1.0\n",
      "                 evening = True           not_ip : ipa    =      2.2 : 1.0\n",
      "                 started = True           not_ip : ipa    =      2.2 : 1.0\n",
      "                      to = True           not_ip : ipa    =      2.2 : 1.0\n",
      "                   keeps = True           not_ip : ipa    =      2.2 : 1.0\n",
      "                    past = True           not_ip : ipa    =      2.2 : 1.0\n",
      "                   pizza = True           not_ip : ipa    =      2.2 : 1.0\n",
      "                    ball = True           not_ip : ipa    =      2.2 : 1.0\n",
      "                 amounts = True           not_ip : ipa    =      2.2 : 1.0\n",
      "                   plays = True           not_ip : ipa    =      2.2 : 1.0\n",
      "                  couldn = True           not_ip : ipa    =      2.2 : 1.0\n",
      "                    cold = True           not_ip : ipa    =      2.2 : 1.0\n",
      "            drinkability = True           not_ip : ipa    =      2.2 : 1.0\n",
      "                  slowly = True           not_ip : ipa    =      2.2 : 1.0\n",
      "                   fresh = True              ipa : not_ip =      2.1 : 1.0\n",
      "                    wasn = True              ipa : not_ip =      2.0 : 1.0\n",
      "                    bite = True              ipa : not_ip =      2.0 : 1.0\n",
      "                     let = True              ipa : not_ip =      2.0 : 1.0\n",
      "                   draft = True              ipa : not_ip =      2.0 : 1.0\n",
      "                 belgian = True           not_ip : ipa    =      2.0 : 1.0\n",
      "                original = True           not_ip : ipa    =      2.0 : 1.0\n",
      "                 imagine = True           not_ip : ipa    =      2.0 : 1.0\n",
      "                 usually = True           not_ip : ipa    =      2.0 : 1.0\n",
      "                    what = True              ipa : not_ip =      2.0 : 1.0\n",
      "                    spot = True              ipa : not_ip =      2.0 : 1.0\n",
      "                    that = True              ipa : not_ip =      2.0 : 1.0\n",
      "                     wet = True              ipa : not_ip =      2.0 : 1.0\n",
      "                dominant = True              ipa : not_ip =      2.0 : 1.0\n",
      "                  smooth = True           not_ip : ipa    =      2.0 : 1.0\n",
      "                together = True           not_ip : ipa    =      2.0 : 1.0\n",
      "                   since = True           not_ip : ipa    =      2.0 : 1.0\n",
      "                   liked = True           not_ip : ipa    =      2.0 : 1.0\n",
      "                   heavy = True           not_ip : ipa    =      2.0 : 1.0\n",
      "                   depth = True           not_ip : ipa    =      2.0 : 1.0\n",
      "                   years = True              ipa : not_ip =      1.9 : 1.0\n",
      "                      oz = True              ipa : not_ip =      1.9 : 1.0\n",
      "               surprised = True              ipa : not_ip =      1.9 : 1.0\n",
      "                  popped = True              ipa : not_ip =      1.9 : 1.0\n",
      "                   swirl = True              ipa : not_ip =      1.9 : 1.0\n",
      "                    yeah = True              ipa : not_ip =      1.9 : 1.0\n",
      "                   happy = True              ipa : not_ip =      1.9 : 1.0\n",
      "                  barely = True              ipa : not_ip =      1.9 : 1.0\n",
      "                 opinion = True              ipa : not_ip =      1.9 : 1.0\n",
      "                 provide = True              ipa : not_ip =      1.9 : 1.0\n",
      "                  series = True              ipa : not_ip =      1.9 : 1.0\n",
      "                   while = True              ipa : not_ip =      1.9 : 1.0\n",
      "                    dark = False             ipa : not_ip =      1.9 : 1.0\n",
      "               sweetness = True           not_ip : ipa    =      1.9 : 1.0\n",
      "                     for = True              ipa : not_ip =      1.9 : 1.0\n",
      "                    wish = True              ipa : not_ip =      1.9 : 1.0\n",
      "                  always = True              ipa : not_ip =      1.9 : 1.0\n",
      "                   thick = True           not_ip : ipa    =      1.8 : 1.0\n",
      "                 tasting = True              ipa : not_ip =      1.8 : 1.0\n",
      "                     lip = True              ipa : not_ip =      1.8 : 1.0\n",
      "                critique = True              ipa : not_ip =      1.8 : 1.0\n",
      "                   spots = True              ipa : not_ip =      1.8 : 1.0\n",
      "                   tight = True              ipa : not_ip =      1.8 : 1.0\n",
      "                     los = True              ipa : not_ip =      1.8 : 1.0\n",
      "                  source = True              ipa : not_ip =      1.8 : 1.0\n",
      "                   month = True              ipa : not_ip =      1.8 : 1.0\n",
      "              disappears = True              ipa : not_ip =      1.8 : 1.0\n",
      "                  listed = True              ipa : not_ip =      1.8 : 1.0\n",
      "                    step = True              ipa : not_ip =      1.8 : 1.0\n",
      "                   close = True              ipa : not_ip =      1.8 : 1.0\n",
      "                   props = True              ipa : not_ip =      1.8 : 1.0\n",
      "                describe = True              ipa : not_ip =      1.8 : 1.0\n",
      "                     guy = True              ipa : not_ip =      1.8 : 1.0\n",
      "                generous = True              ipa : not_ip =      1.8 : 1.0\n",
      "                  seemed = True              ipa : not_ip =      1.8 : 1.0\n",
      "                     ibu = True              ipa : not_ip =      1.8 : 1.0\n",
      "                  factor = True              ipa : not_ip =      1.8 : 1.0\n",
      "                  family = True              ipa : not_ip =      1.8 : 1.0\n",
      "                compared = True              ipa : not_ip =      1.8 : 1.0\n",
      "                  minute = True              ipa : not_ip =      1.8 : 1.0\n",
      "               delivered = True              ipa : not_ip =      1.8 : 1.0\n",
      "                 clarity = True              ipa : not_ip =      1.8 : 1.0\n",
      "                delivers = True              ipa : not_ip =      1.8 : 1.0\n",
      "                    jump = True              ipa : not_ip =      1.8 : 1.0\n",
      "                   likes = True              ipa : not_ip =      1.8 : 1.0\n",
      "                 cloying = True              ipa : not_ip =      1.8 : 1.0\n",
      "                 average = True              ipa : not_ip =      1.8 : 1.0\n",
      "                    fair = True              ipa : not_ip =      1.8 : 1.0\n",
      "             perceptible = True              ipa : not_ip =      1.8 : 1.0\n",
      "                    hold = True              ipa : not_ip =      1.8 : 1.0\n",
      "                 reveals = True              ipa : not_ip =      1.8 : 1.0\n",
      "                   lacks = True              ipa : not_ip =      1.8 : 1.0\n",
      "                bringing = True              ipa : not_ip =      1.8 : 1.0\n",
      "              completely = True              ipa : not_ip =      1.8 : 1.0\n",
      "             accompanied = True              ipa : not_ip =      1.8 : 1.0\n",
      "               continues = True              ipa : not_ip =      1.8 : 1.0\n",
      "                 lacings = True              ipa : not_ip =      1.8 : 1.0\n",
      "                 sipping = True              ipa : not_ip =      1.8 : 1.0\n",
      "                 current = True              ipa : not_ip =      1.8 : 1.0\n",
      "                      vs = True              ipa : not_ip =      1.8 : 1.0\n",
      "             reminiscent = True              ipa : not_ip =      1.8 : 1.0\n",
      "                 angeles = True              ipa : not_ip =      1.8 : 1.0\n",
      "                    read = True              ipa : not_ip =      1.8 : 1.0\n",
      "                    rest = True              ipa : not_ip =      1.8 : 1.0\n",
      "                     shy = True              ipa : not_ip =      1.8 : 1.0\n",
      "                    with = True              ipa : not_ip =      1.8 : 1.0\n",
      "                balanced = True              ipa : not_ip =      1.8 : 1.0\n",
      "                 looking = True           not_ip : ipa    =      1.8 : 1.0\n",
      "                    used = True           not_ip : ipa    =      1.7 : 1.0\n",
      "                   going = True              ipa : not_ip =      1.7 : 1.0\n",
      "              aftertaste = True           not_ip : ipa    =      1.7 : 1.0\n",
      "                   fades = True           not_ip : ipa    =      1.7 : 1.0\n",
      "                  watery = True           not_ip : ipa    =      1.7 : 1.0\n",
      "                 session = True           not_ip : ipa    =      1.7 : 1.0\n",
      "                    wine = True           not_ip : ipa    =      1.7 : 1.0\n",
      "                  smells = True           not_ip : ipa    =      1.7 : 1.0\n",
      "                     low = True           not_ip : ipa    =      1.7 : 1.0\n",
      "                  around = True           not_ip : ipa    =      1.7 : 1.0\n",
      "                    they = True           not_ip : ipa    =      1.7 : 1.0\n",
      "                 typical = True           not_ip : ipa    =      1.7 : 1.0\n",
      "                 freshly = True           not_ip : ipa    =      1.7 : 1.0\n",
      "                     its = True           not_ip : ipa    =      1.7 : 1.0\n",
      "                 viscous = True           not_ip : ipa    =      1.7 : 1.0\n",
      "                elements = True           not_ip : ipa    =      1.7 : 1.0\n",
      "                inviting = True           not_ip : ipa    =      1.7 : 1.0\n",
      "               mentioned = True           not_ip : ipa    =      1.7 : 1.0\n",
      "                  become = True           not_ip : ipa    =      1.7 : 1.0\n",
      "                 awesome = True              ipa : not_ip =      1.7 : 1.0\n",
      "               wonderful = True              ipa : not_ip =      1.7 : 1.0\n",
      "                     ipa = False          not_ip : ipa    =      1.6 : 1.0\n",
      "                    ring = True           not_ip : ipa    =      1.6 : 1.0\n",
      "                    year = True           not_ip : ipa    =      1.6 : 1.0\n",
      "                  bomber = True              ipa : not_ip =      1.6 : 1.0\n",
      "                     had = True              ipa : not_ip =      1.6 : 1.0\n",
      "                     old = True              ipa : not_ip =      1.6 : 1.0\n",
      "               lingering = True           not_ip : ipa    =      1.6 : 1.0\n",
      "                 fingers = True              ipa : not_ip =      1.6 : 1.0\n",
      "                  herbal = True              ipa : not_ip =      1.6 : 1.0\n",
      "                   scent = True              ipa : not_ip =      1.6 : 1.0\n",
      "                   brown = False             ipa : not_ip =      1.6 : 1.0\n",
      "                 caramel = True           not_ip : ipa    =      1.6 : 1.0\n",
      "                 perfect = True              ipa : not_ip =      1.6 : 1.0\n",
      "                    upon = True           not_ip : ipa    =      1.5 : 1.0\n",
      "                   event = True           not_ip : ipa    =      1.5 : 1.0\n",
      "                    fits = True           not_ip : ipa    =      1.5 : 1.0\n",
      "                  venice = True           not_ip : ipa    =      1.5 : 1.0\n",
      "                     jar = True           not_ip : ipa    =      1.5 : 1.0\n",
      "                  reason = True           not_ip : ipa    =      1.5 : 1.0\n",
      "                powerful = True           not_ip : ipa    =      1.5 : 1.0\n",
      "                   lasts = True           not_ip : ipa    =      1.5 : 1.0\n",
      "            aggressively = True           not_ip : ipa    =      1.5 : 1.0\n",
      "               obviously = True           not_ip : ipa    =      1.5 : 1.0\n",
      "               enjoyable = True           not_ip : ipa    =      1.5 : 1.0\n",
      "                 taproom = True           not_ip : ipa    =      1.5 : 1.0\n",
      "                absolute = True           not_ip : ipa    =      1.5 : 1.0\n",
      "                   aware = True           not_ip : ipa    =      1.5 : 1.0\n",
      "                    hope = True           not_ip : ipa    =      1.5 : 1.0\n",
      "                   sheet = True           not_ip : ipa    =      1.5 : 1.0\n",
      "                   feels = True           not_ip : ipa    =      1.5 : 1.0\n",
      "                    play = True           not_ip : ipa    =      1.5 : 1.0\n",
      "                  ounces = True           not_ip : ipa    =      1.5 : 1.0\n",
      "                 brewpub = True           not_ip : ipa    =      1.5 : 1.0\n",
      "                   laced = True           not_ip : ipa    =      1.5 : 1.0\n",
      "               instantly = True           not_ip : ipa    =      1.5 : 1.0\n",
      "                  breath = True           not_ip : ipa    =      1.5 : 1.0\n",
      "                     saw = True           not_ip : ipa    =      1.5 : 1.0\n",
      "              earthiness = True           not_ip : ipa    =      1.5 : 1.0\n",
      "                    ruby = True           not_ip : ipa    =      1.5 : 1.0\n",
      "                    cant = True           not_ip : ipa    =      1.5 : 1.0\n",
      "                   speak = True           not_ip : ipa    =      1.5 : 1.0\n",
      "                  pulled = True           not_ip : ipa    =      1.5 : 1.0\n",
      "                   flash = True           not_ip : ipa    =      1.5 : 1.0\n",
      "                combined = True           not_ip : ipa    =      1.5 : 1.0\n",
      "              undeniable = True           not_ip : ipa    =      1.5 : 1.0\n",
      "                  settle = True           not_ip : ipa    =      1.5 : 1.0\n",
      "             anniversary = True           not_ip : ipa    =      1.5 : 1.0\n",
      "                    area = True           not_ip : ipa    =      1.5 : 1.0\n",
      "               forefront = True           not_ip : ipa    =      1.5 : 1.0\n",
      "             beautifully = True           not_ip : ipa    =      1.5 : 1.0\n",
      "                 showing = True           not_ip : ipa    =      1.5 : 1.0\n",
      "                   means = True           not_ip : ipa    =      1.5 : 1.0\n",
      "                  beyond = True           not_ip : ipa    =      1.5 : 1.0\n",
      "                   offer = True           not_ip : ipa    =      1.5 : 1.0\n",
      "                continue = True           not_ip : ipa    =      1.5 : 1.0\n",
      "                      sf = True           not_ip : ipa    =      1.5 : 1.0\n",
      "                 hanging = True           not_ip : ipa    =      1.5 : 1.0\n",
      "                    care = True           not_ip : ipa    =      1.5 : 1.0\n",
      "                 trouble = True           not_ip : ipa    =      1.5 : 1.0\n",
      "                   dirty = True           not_ip : ipa    =      1.5 : 1.0\n",
      "                    four = True           not_ip : ipa    =      1.5 : 1.0\n",
      "                    baby = True           not_ip : ipa    =      1.5 : 1.0\n",
      "                aromatic = True           not_ip : ipa    =      1.5 : 1.0\n",
      "               reviewing = True              ipa : not_ip =      1.5 : 1.0\n",
      "                    dots = True              ipa : not_ip =      1.5 : 1.0\n",
      "           exceptionally = True              ipa : not_ip =      1.5 : 1.0\n",
      "                   punch = True              ipa : not_ip =      1.5 : 1.0\n",
      "                 hopping = True              ipa : not_ip =      1.5 : 1.0\n",
      "                 evident = True              ipa : not_ip =      1.5 : 1.0\n",
      "                    atop = True              ipa : not_ip =      1.5 : 1.0\n",
      "                  senses = True              ipa : not_ip =      1.5 : 1.0\n",
      "                   haven = True              ipa : not_ip =      1.5 : 1.0\n",
      "                  cheers = True              ipa : not_ip =      1.5 : 1.0\n",
      "                  chance = True              ipa : not_ip =      1.5 : 1.0\n",
      "                  action = True              ipa : not_ip =      1.5 : 1.0\n",
      "                whatever = True              ipa : not_ip =      1.5 : 1.0\n",
      "                 sharing = True              ipa : not_ip =      1.5 : 1.0\n",
      "             translucent = True              ipa : not_ip =      1.5 : 1.0\n",
      "                 release = True              ipa : not_ip =      1.5 : 1.0\n",
      "                  toward = True              ipa : not_ip =      1.5 : 1.0\n",
      "                    note = True              ipa : not_ip =      1.5 : 1.0\n",
      "                      go = True           not_ip : ipa    =      1.5 : 1.0\n",
      "                   world = True              ipa : not_ip =      1.5 : 1.0\n",
      "                 enjoyed = True           not_ip : ipa    =      1.5 : 1.0\n",
      "                    hops = False          not_ip : ipa    =      1.5 : 1.0\n",
      "                     ale = True              ipa : not_ip =      1.5 : 1.0\n",
      "                   given = True              ipa : not_ip =      1.5 : 1.0\n",
      "              experience = True              ipa : not_ip =      1.5 : 1.0\n",
      "               perfectly = True              ipa : not_ip =      1.5 : 1.0\n",
      "                    date = True              ipa : not_ip =      1.5 : 1.0\n",
      "                   takes = True              ipa : not_ip =      1.5 : 1.0\n",
      "                     hop = False          not_ip : ipa    =      1.5 : 1.0\n",
      "                 roasted = False             ipa : not_ip =      1.5 : 1.0\n",
      "                tropical = False          not_ip : ipa    =      1.5 : 1.0\n",
      "              impression = True           not_ip : ipa    =      1.5 : 1.0\n",
      "                    need = True           not_ip : ipa    =      1.5 : 1.0\n",
      "                 subdued = True           not_ip : ipa    =      1.5 : 1.0\n",
      "                 exactly = True           not_ip : ipa    =      1.5 : 1.0\n",
      "                   shows = True           not_ip : ipa    =      1.5 : 1.0\n",
      "               francisco = True           not_ip : ipa    =      1.5 : 1.0\n",
      "                    pick = True           not_ip : ipa    =      1.5 : 1.0\n",
      "                 recedes = True           not_ip : ipa    =      1.5 : 1.0\n",
      "                 streaks = True           not_ip : ipa    =      1.5 : 1.0\n",
      "                   treat = True           not_ip : ipa    =      1.5 : 1.0\n",
      "                  nicely = True           not_ip : ipa    =      1.4 : 1.0\n",
      "                    high = True              ipa : not_ip =      1.4 : 1.0\n",
      "                     try = True           not_ip : ipa    =      1.4 : 1.0\n",
      "                   aroma = True              ipa : not_ip =      1.4 : 1.0\n",
      "                  poured = True           not_ip : ipa    =      1.4 : 1.0\n",
      "                   start = True              ipa : not_ip =      1.4 : 1.0\n",
      "              grapefruit = False          not_ip : ipa    =      1.4 : 1.0\n",
      "                 lingers = True           not_ip : ipa    =      1.4 : 1.0\n",
      "                    best = True              ipa : not_ip =      1.4 : 1.0\n",
      "                  strong = True           not_ip : ipa    =      1.4 : 1.0\n",
      "                  darker = True              ipa : not_ip =      1.4 : 1.0\n",
      "                    more = True              ipa : not_ip =      1.4 : 1.0\n",
      "                   sides = True              ipa : not_ip =      1.4 : 1.0\n",
      "                  picked = True              ipa : not_ip =      1.4 : 1.0\n",
      "                   doubt = True              ipa : not_ip =      1.4 : 1.0\n",
      "                 russian = True              ipa : not_ip =      1.4 : 1.0\n",
      "                  within = True              ipa : not_ip =      1.4 : 1.0\n",
      "                      th = True              ipa : not_ip =      1.4 : 1.0\n",
      "                  pretty = True           not_ip : ipa    =      1.4 : 1.0\n",
      "                    many = True              ipa : not_ip =      1.4 : 1.0\n",
      "                   tulip = True              ipa : not_ip =      1.4 : 1.0\n",
      "                   comes = True           not_ip : ipa    =      1.4 : 1.0\n",
      "                 flavors = True           not_ip : ipa    =      1.4 : 1.0\n",
      "                    long = True              ipa : not_ip =      1.4 : 1.0\n",
      "                  finish = True              ipa : not_ip =      1.3 : 1.0\n",
      "                  really = True           not_ip : ipa    =      1.3 : 1.0\n",
      "                    damn = True           not_ip : ipa    =      1.3 : 1.0\n",
      "                    work = True           not_ip : ipa    =      1.3 : 1.0\n",
      "             recommended = True           not_ip : ipa    =      1.3 : 1.0\n",
      "                      at = True           not_ip : ipa    =      1.3 : 1.0\n",
      "                   sense = True           not_ip : ipa    =      1.3 : 1.0\n",
      "                   price = True           not_ip : ipa    =      1.3 : 1.0\n",
      "                   rings = True           not_ip : ipa    =      1.3 : 1.0\n",
      "                   warms = True           not_ip : ipa    =      1.3 : 1.0\n",
      "                     ago = True              ipa : not_ip =      1.3 : 1.0\n",
      "                   loads = True              ipa : not_ip =      1.3 : 1.0\n",
      "                straight = True              ipa : not_ip =      1.3 : 1.0\n",
      "                  gentle = True              ipa : not_ip =      1.3 : 1.0\n",
      "                    brew = True           not_ip : ipa    =      1.3 : 1.0\n",
      "                  bitter = True              ipa : not_ip =      1.3 : 1.0\n",
      "                   touch = True           not_ip : ipa    =      1.3 : 1.0\n",
      "                    less = True           not_ip : ipa    =      1.3 : 1.0\n",
      "                    some = True              ipa : not_ip =      1.3 : 1.0\n",
      "               delicious = True              ipa : not_ip =      1.3 : 1.0\n",
      "               balancing = True           not_ip : ipa    =      1.3 : 1.0\n",
      "                 appears = True           not_ip : ipa    =      1.3 : 1.0\n",
      "              comparison = True           not_ip : ipa    =      1.3 : 1.0\n",
      "                  adding = True           not_ip : ipa    =      1.3 : 1.0\n",
      "                    when = True           not_ip : ipa    =      1.3 : 1.0\n",
      "                 brought = True           not_ip : ipa    =      1.3 : 1.0\n",
      "                    both = True           not_ip : ipa    =      1.3 : 1.0\n",
      "                 welcome = True           not_ip : ipa    =      1.3 : 1.0\n",
      "                 aspects = True           not_ip : ipa    =      1.3 : 1.0\n",
      "                    kept = True           not_ip : ipa    =      1.3 : 1.0\n",
      "             appropriate = True           not_ip : ipa    =      1.3 : 1.0\n",
      "                anything = True           not_ip : ipa    =      1.3 : 1.0\n",
      "                      we = True           not_ip : ipa    =      1.3 : 1.0\n",
      "                  lively = True           not_ip : ipa    =      1.3 : 1.0\n",
      "                   woody = True           not_ip : ipa    =      1.3 : 1.0\n",
      "                   drank = True              ipa : not_ip =      1.3 : 1.0\n",
      "                    week = True              ipa : not_ip =      1.3 : 1.0\n",
      "                   river = True              ipa : not_ip =      1.3 : 1.0\n",
      "                    soon = True              ipa : not_ip =      1.3 : 1.0\n",
      "                    pour = True           not_ip : ipa    =      1.3 : 1.0\n",
      "                  mostly = True           not_ip : ipa    =      1.3 : 1.0\n",
      "                    love = True           not_ip : ipa    =      1.3 : 1.0\n",
      "                favorite = True              ipa : not_ip =      1.3 : 1.0\n",
      "                  smooth = False             ipa : not_ip =      1.3 : 1.0\n",
      "                     cap = True              ipa : not_ip =      1.2 : 1.0\n",
      "                    away = True           not_ip : ipa    =      1.2 : 1.0\n",
      "                       t = True           not_ip : ipa    =      1.2 : 1.0\n",
      "                    foam = True           not_ip : ipa    =      1.2 : 1.0\n",
      "                   fruit = False          not_ip : ipa    =      1.2 : 1.0\n",
      "                     not = True              ipa : not_ip =      1.2 : 1.0\n",
      "                  lacing = True           not_ip : ipa    =      1.2 : 1.0\n",
      "                    next = True              ipa : not_ip =      1.2 : 1.0\n",
      "                   small = True              ipa : not_ip =      1.2 : 1.0\n",
      "                   still = True           not_ip : ipa    =      1.2 : 1.0\n",
      "                  trying = True           not_ip : ipa    =      1.2 : 1.0\n",
      "                   tried = True           not_ip : ipa    =      1.2 : 1.0\n",
      "              definitely = True              ipa : not_ip =      1.2 : 1.0\n",
      "                    look = True              ipa : not_ip =      1.2 : 1.0\n",
      "                  golden = False          not_ip : ipa    =      1.2 : 1.0\n",
      "               beautiful = True              ipa : not_ip =      1.2 : 1.0\n",
      "                   clear = False          not_ip : ipa    =      1.2 : 1.0\n",
      "                       o = True              ipa : not_ip =      1.2 : 1.0\n",
      "                   mango = False          not_ip : ipa    =      1.2 : 1.0\n",
      "                    open = True           not_ip : ipa    =      1.2 : 1.0\n",
      "               flavorful = True           not_ip : ipa    =      1.2 : 1.0\n",
      "                 towards = True           not_ip : ipa    =      1.2 : 1.0\n",
      "                    else = True           not_ip : ipa    =      1.2 : 1.0\n",
      "                  bubbly = True           not_ip : ipa    =      1.2 : 1.0\n",
      "             cellarmaker = True           not_ip : ipa    =      1.2 : 1.0\n",
      "                  tasted = True           not_ip : ipa    =      1.2 : 1.0\n",
      "               alongside = True           not_ip : ipa    =      1.2 : 1.0\n",
      "                      ve = True              ipa : not_ip =      1.2 : 1.0\n",
      "                   smell = True           not_ip : ipa    =      1.2 : 1.0\n",
      "                probably = True           not_ip : ipa    =      1.2 : 1.0\n",
      "                    real = True           not_ip : ipa    =      1.2 : 1.0\n",
      "                   quite = True              ipa : not_ip =      1.2 : 1.0\n",
      "                     lot = True           not_ip : ipa    =      1.2 : 1.0\n",
      "                  roasty = False             ipa : not_ip =      1.2 : 1.0\n",
      "                 overall = True              ipa : not_ip =      1.2 : 1.0\n",
      "                   along = True              ipa : not_ip =      1.2 : 1.0\n",
      "                     one = True           not_ip : ipa    =      1.2 : 1.0\n",
      "                   aroma = False          not_ip : ipa    =      1.1 : 1.0\n",
      "                      as = True           not_ip : ipa    =      1.1 : 1.0\n",
      "                   juicy = False          not_ip : ipa    =      1.1 : 1.0\n",
      "                       d = True           not_ip : ipa    =      1.1 : 1.0\n",
      "                  finish = False          not_ip : ipa    =      1.1 : 1.0\n",
      "                  bright = False          not_ip : ipa    =      1.1 : 1.0\n",
      "                    full = True              ipa : not_ip =      1.1 : 1.0\n",
      "                reviewed = True           not_ip : ipa    =      1.1 : 1.0\n",
      "                   front = True           not_ip : ipa    =      1.1 : 1.0\n"
     ]
    }
   ],
   "source": [
    "print \"Naive Bayes Algo % accuracy:\",(nltk.classify.accuracy(classifier,testing_set))*100.\n",
    "classifier.show_most_informative_features(500)"
   ]
  },
  {
   "cell_type": "markdown",
   "metadata": {},
   "source": [
    "## Now, we can classify individual beers using the bayesean classifier"
   ]
  },
  {
   "cell_type": "code",
   "execution_count": 14,
   "metadata": {
    "collapsed": true
   },
   "outputs": [],
   "source": [
    "def get_hoppy_probabilities(feature_set):\n",
    "    prob = {}\n",
    "    dist = classifier.prob_classify(feature_set)\n",
    "    for label in dist.samples():\n",
    "        prob[label] = dist.prob(label)\n",
    "    return prob"
   ]
  },
  {
   "cell_type": "code",
   "execution_count": 15,
   "metadata": {
    "collapsed": false
   },
   "outputs": [
    {
     "name": "stdout",
     "output_type": "stream",
     "text": [
      "<ProbDist with 2 samples>\n",
      "not_ipa\n"
     ]
    }
   ],
   "source": [
    "print classifier.prob_classify(find_features(malty_reviews[0][0]))\n",
    "print classifier.classify(find_features(malty_reviews[0][0]))\n",
    "\n",
    "#probs = get_hoppy_probabilities(test_features)\n",
    "#print probs[\"ipa\"],probs[\"not_ipa\"]\n",
    "\n",
    "# for review in malty_reviews:\n",
    "#     dist = classifier.prob_classify(find_features(review[0]))\n",
    "#     for label in dist.samples():\n",
    "#         print(\"%s: %f\" % (label, dist.prob(label)))"
   ]
  },
  {
   "cell_type": "code",
   "execution_count": 16,
   "metadata": {
    "collapsed": false
   },
   "outputs": [],
   "source": [
    "rows_list = []\n",
    "index_out = 0\n",
    "for index,row in all_beers.iterrows():\n",
    "    #print index\n",
    "    #print row\n",
    "    try:\n",
    "        features = find_features(row['review_text'].split())\n",
    "    except:\n",
    "        continue\n",
    "    hoppiness = get_hoppy_probabilities(features)\n",
    "    #print hoppiness\n",
    "    \n",
    "    out_dict = {}\n",
    "    out_dict['beer_key'] = row['beer_key']\n",
    "    out_dict['username'] = row['username']\n",
    "    out_dict['review_text'] = row['review_text']\n",
    "    out_dict['name'] = row['beer_name']\n",
    "    out_dict['style'] = row['style_name']\n",
    "    out_dict['hoppiness'] = hoppiness['ipa']\n",
    "    out_dict['maltiness'] = hoppiness['not_ipa']\n",
    "    out_dict['hop_liklihood'] = hoppiness['ipa']/(hoppiness['ipa']+hoppiness['not_ipa'])\n",
    "    rows_list.append(out_dict)\n",
    "    #print rows_list"
   ]
  },
  {
   "cell_type": "code",
   "execution_count": 17,
   "metadata": {
    "collapsed": true
   },
   "outputs": [],
   "source": [
    "classified_df = pd.DataFrame(rows_list)"
   ]
  },
  {
   "cell_type": "code",
   "execution_count": 18,
   "metadata": {
    "collapsed": false
   },
   "outputs": [
    {
     "data": {
      "text/plain": [
       "<matplotlib.axes._subplots.AxesSubplot at 0x7f47a8a60810>"
      ]
     },
     "execution_count": 18,
     "metadata": {},
     "output_type": "execute_result"
    },
    {
     "data": {
      "image/png": "[encoded data removed]",
      "text/plain": [
       "<matplotlib.figure.Figure at 0x7f47aaf29310>"
      ]
     },
     "metadata": {},
     "output_type": "display_data"
    }
   ],
   "source": [
    "classified_df['hoppiness'].plot(kind='hist',logy=True)"
   ]
  },
  {
   "cell_type": "code",
   "execution_count": 19,
   "metadata": {
    "collapsed": false
   },
   "outputs": [
    {
     "data": {
      "text/plain": [
       "<matplotlib.axes._subplots.AxesSubplot at 0x7f47a8669fd0>"
      ]
     },
     "execution_count": 19,
     "metadata": {},
     "output_type": "execute_result"
    },
    {
     "data": {
      "image/png": "[encoded data removed]",
      "text/plain": [
       "<matplotlib.figure.Figure at 0x7f47aaf29750>"
      ]
     },
     "metadata": {},
     "output_type": "display_data"
    }
   ],
   "source": [
    "classified_df['hop_liklihood'].plot(kind='hist',logy=True)"
   ]
  },
  {
   "cell_type": "code",
   "execution_count": 20,
   "metadata": {
    "collapsed": false
   },
   "outputs": [
    {
     "data": {
      "text/plain": [
       "<matplotlib.axes._subplots.AxesSubplot at 0x7f47a2a863d0>"
      ]
     },
     "execution_count": 20,
     "metadata": {},
     "output_type": "execute_result"
    },
    {
     "data": {
      "image/png": "[encoded data removed]",
      "text/plain": [
       "<matplotlib.figure.Figure at 0x7f47b9074410>"
      ]
     },
     "metadata": {},
     "output_type": "display_data"
    }
   ],
   "source": [
    "classified_df['hoppiness'][classified_df['style']=='Kölsch'].plot(kind='hist')"
   ]
  },
  {
   "cell_type": "code",
   "execution_count": 21,
   "metadata": {
    "collapsed": false
   },
   "outputs": [],
   "source": [
    "#classified_df.sort(['maltiness'],ascending=0)"
   ]
  },
  {
   "cell_type": "code",
   "execution_count": 27,
   "metadata": {
    "collapsed": false
   },
   "outputs": [],
   "source": [
    "classified_beers = []\n",
    "classified_df.to_csv(\"test.csv\")\n"
   ]
  },
  {
   "cell_type": "code",
   "execution_count": null,
   "metadata": {
    "collapsed": true
   },
   "outputs": [],
   "source": []
  }
 ],
 "metadata": {
  "kernelspec": {
   "display_name": "Python 2",
   "language": "python",
   "name": "python2"
  },
  "language_info": {
   "codemirror_mode": {
    "name": "ipython",
    "version": 2
   },
   "file_extension": ".py",
   "mimetype": "text/x-python",
   "name": "python",
   "nbconvert_exporter": "python",
   "pygments_lexer": "ipython2",
   "version": "2.7.11"
  }
 },
 "nbformat": 4,
 "nbformat_minor": 0
}
