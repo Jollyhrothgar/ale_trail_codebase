{
 "cells": [
  {
   "cell_type": "markdown",
   "metadata": {},
   "source": [
    "# Dump Reviews\n",
    "Reviews will first be cleaned of all punctuation, and then dumped to textfiles\n",
    "\n",
    "## Cumulative Textfile\n",
    "This text file will contain cleaned data from all beer reviews\n",
    "\n",
    "## Style Separated Textfiles\n",
    "These text-files will contain cleaned data from all beer reviews belonging to that style."
   ]
  },
  {
   "cell_type": "code",
   "execution_count": null,
   "metadata": {
    "collapsed": true
   },
   "outputs": [],
   "source": []
  }
 ],
 "metadata": {
  "kernelspec": {
   "display_name": "Python 2",
   "language": "python",
   "name": "python2"
  },
  "language_info": {
   "codemirror_mode": {
    "name": "ipython",
    "version": 2
   },
   "file_extension": ".py",
   "mimetype": "text/x-python",
   "name": "python",
   "nbconvert_exporter": "python",
   "pygments_lexer": "ipython2",
   "version": "2.7.11"
  }
 },
 "nbformat": 4,
 "nbformat_minor": 0
}
