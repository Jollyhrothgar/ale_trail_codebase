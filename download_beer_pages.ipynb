{
 "cells": [
  {
   "cell_type": "markdown",
   "metadata": {},
   "source": [
    "# AleTrail BeerAdvocate Scraper\n",
    "\n",
    "## Cache pages from www.beeradvocate.com locally for further scraping\n",
    "\n",
    "By: Mike Beaumier -- Fellow, Insight Data Science\n",
    "\n",
    " - Email: [michael.beaumier@gmail.com](mailto:michael.beaumier@gmail.com)\n",
    " - Twitter: [@jollyhrothgar](https://twitter.com/jollyhrothgar)\n",
    " - **LinkedIn**: [Add me w/ 1 line message about our connection](https://www.linkedin.com/in/michaelbeaumier)\n",
    "\n",
    "Repositories on [github](https://www.github.com/Jollyhrothgar)"
   ]
  },
  {
   "cell_type": "markdown",
   "metadata": {},
   "source": [
    "## 1. Import Libraries"
   ]
  },
  {
   "cell_type": "code",
   "execution_count": 15,
   "metadata": {
    "collapsed": true
   },
   "outputs": [],
   "source": [
    "import os\n",
    "import re \n",
    "import sys\n",
    "import urllib2\n",
    "import pandas\n",
    "import csv\n",
    "import numpy as np\n",
    "import matplotlib.pyplot as plt\n",
    "from time import sleep\n",
    "from bs4 import BeautifulSoup"
   ]
  },
  {
   "cell_type": "code",
   "execution_count": 16,
   "metadata": {
    "collapsed": false
   },
   "outputs": [],
   "source": [
    "def scrape_brewery(url,dump_directory = '.'):\n",
    "    '''\n",
    "    takes a beer-advocate URL formatted like so: www.beeradvocate.com/pages/<numeric_id>/\" \n",
    "    and dumps the page to a utf-8 text file. Uses <numeric_id> to uniquely identify the file.\n",
    "    stores these html dumps in directory argument (defualt is '.') as: \n",
    "    '<dump_directory>/index_<numeric_id>.html'\n",
    "    '''\n",
    "    \n",
    "    # Check if data has been downloaded\n",
    "    re_check = re.search('profile/(\\d+)',url)\n",
    "    print re_check.group(1)\n",
    "    if os.path.isdir(dump_directory+'/'+re_check.group(1)):\n",
    "        print \"data exists\"\n",
    "        return 1\n",
    "    else:\n",
    "        sleep(0.25)\n",
    "    print \"Scraping URL: \",url\n",
    "    headers = { 'User-Agent' : 'Mozilla/5.0'  }\n",
    "    req = urllib2.Request(url, None, headers)\n",
    "    html = urllib2.urlopen(req).read()\n",
    "    soup = BeautifulSoup(html,'lxml')\n",
    "\n",
    "    # Get an appropriate output name from the url\n",
    "    m = re.search(r'http://www.beeradvocate.com/beer/profile/(\\d+)/',url)\n",
    "    page_id = 0\n",
    "    if not m:\n",
    "        print 'Bad match for url:',url,'\\nBailing out!'\n",
    "        return\n",
    "    else:\n",
    "        page_id = m.group(1)\n",
    "    brewery_page = soup.encode('utf-8')\n",
    "    matches = re.findall('/\\d+/\\d+',brewery_page)\n",
    "    brew_dict = {}\n",
    "    for match in matches:\n",
    "        id_match = re.search('/(\\d+)/(\\d+)',match)\n",
    "        if id_match.group(1) not in brew_dict:\n",
    "            brew_dict[id_match.group(1)] = []\n",
    "            brew_dict[id_match.group(1)].append(id_match.group(2))\n",
    "        else:\n",
    "            brew_dict[id_match.group(1)].append(id_match.group(2))\n",
    "    # okay, now we have a list of beer pages from which to scrape reviews, but we only\n",
    "    # want the 'real' beers, not suggestions from beer-advocate, so we keep the 'larger list' of beers.\n",
    "    best_key = -1\n",
    "    key_length = -1\n",
    "    for key in brew_dict:\n",
    "        if len(brew_dict[key]) > key_length:\n",
    "            best_key = key\n",
    "            key_length = len(brew_dict[key])\n",
    "    \n",
    "    # \"http://www.beeradvocate.com/beer/profile/<brewery_id>/<beer_id>/view=beer&sort=topr&start=<page_num>\"\n",
    "    beer_url_dict = {}\n",
    "    for beer_id in brew_dict[best_key]:\n",
    "        beer_url = (\n",
    "            \"http://www.beeradvocate.com/beer/profile/\"\n",
    "            +str(best_key)\n",
    "            +\"/\"\n",
    "            +str(beer_id)\n",
    "            )\n",
    "        if beer_url not in beer_url_dict:\n",
    "            beer_url_dict[beer_url] = brew_dict[best_key]\n",
    "    # Create beer review list whether or not reviews exist. If they exist, we get the top 50\n",
    "    beer_review_list = []\n",
    "    for k,v in beer_url_dict.iteritems():\n",
    "        beer_review_list.append(k + '/view=beer&sort=top&start=0')\n",
    "        beer_review_list.append(k + '/view=beer&sort=top&start=25')\n",
    "    for url in beer_review_list:\n",
    "        #print url\n",
    "    print dump_directory+'/'+str(best_key)\n",
    "    try:\n",
    "        os.mkdir(dump_directory+'/'+str(best_key))\n",
    "    except OSError:\n",
    "        print \"data exists for brewery, skipping.\\n\"\n",
    "        return\n",
    "    # dump the file\n",
    "    out_file = open(dump_directory+'/'+str(best_key)+'/brewery_'+str(page_id)+'.html','w')\n",
    "    out_file.write(brewery_page)\n",
    "    out_file.close()\n",
    "    \n",
    "    for beer_url in beer_review_list:\n",
    "        print \"Scraping beer: \",beer_url\n",
    "        matches = re.search('(\\d+)/(\\d+)',beer_url)\n",
    "        out_beer_file = open(dump_directory+'/'+str(best_key)+'/beer_'+matches.group(2)+'.html','w')\n",
    "        sleep(0.25)\n",
    "        beer_req = urllib2.Request(beer_url,None,headers)\n",
    "        beer_html = urllib2.urlopen(beer_req).read()\n",
    "        beer_soup = BeautifulSoup(beer_html,'lxml')\n",
    "        out_beer_file.write(beer_soup.encode('utf-8'))\n",
    "        out_beer_file.close()\n",
    "    print \"Done scraping\",best_key,\"!\"\n",
    "    return"
   ]
  },
  {
   "cell_type": "code",
   "execution_count": 17,
   "metadata": {
    "collapsed": false
   },
   "outputs": [
    {
     "name": "stdout",
     "output_type": "stream",
     "text": [
      "4410\n",
      "Scraping URL:  http://www.beeradvocate.com/beer/profile/4410/\n",
      "http://www.beeradvocate.com/beer/profile/4410/43424/view=beer&sort=top&start=0\n",
      "http://www.beeradvocate.com/beer/profile/4410/43424/view=beer&sort=top&start=25\n",
      "http://www.beeradvocate.com/beer/profile/4410/43423/view=beer&sort=top&start=0\n",
      "http://www.beeradvocate.com/beer/profile/4410/43423/view=beer&sort=top&start=25\n",
      "http://www.beeradvocate.com/beer/profile/4410/51957/view=beer&sort=top&start=0\n",
      "http://www.beeradvocate.com/beer/profile/4410/51957/view=beer&sort=top&start=25\n",
      "http://www.beeradvocate.com/beer/profile/4410/62401/view=beer&sort=top&start=0\n",
      "http://www.beeradvocate.com/beer/profile/4410/62401/view=beer&sort=top&start=25\n",
      "http://www.beeradvocate.com/beer/profile/4410/61919/view=beer&sort=top&start=0\n",
      "http://www.beeradvocate.com/beer/profile/4410/61919/view=beer&sort=top&start=25\n",
      "http://www.beeradvocate.com/beer/profile/4410/61918/view=beer&sort=top&start=0\n",
      "http://www.beeradvocate.com/beer/profile/4410/61918/view=beer&sort=top&start=25\n",
      "http://www.beeradvocate.com/beer/profile/4410/45935/view=beer&sort=top&start=0\n",
      "http://www.beeradvocate.com/beer/profile/4410/45935/view=beer&sort=top&start=25\n",
      "http://www.beeradvocate.com/beer/profile/4410/44056/view=beer&sort=top&start=0\n",
      "http://www.beeradvocate.com/beer/profile/4410/44056/view=beer&sort=top&start=25\n",
      "http://www.beeradvocate.com/beer/profile/4410/62709/view=beer&sort=top&start=0\n",
      "http://www.beeradvocate.com/beer/profile/4410/62709/view=beer&sort=top&start=25\n",
      "http://www.beeradvocate.com/beer/profile/4410/127602/view=beer&sort=top&start=0\n",
      "http://www.beeradvocate.com/beer/profile/4410/127602/view=beer&sort=top&start=25\n",
      "http://www.beeradvocate.com/beer/profile/4410/121376/view=beer&sort=top&start=0\n",
      "http://www.beeradvocate.com/beer/profile/4410/121376/view=beer&sort=top&start=25\n",
      "http://www.beeradvocate.com/beer/profile/4410/121374/view=beer&sort=top&start=0\n",
      "http://www.beeradvocate.com/beer/profile/4410/121374/view=beer&sort=top&start=25\n",
      "http://www.beeradvocate.com/beer/profile/4410/198563/view=beer&sort=top&start=0\n",
      "http://www.beeradvocate.com/beer/profile/4410/198563/view=beer&sort=top&start=25\n",
      "http://www.beeradvocate.com/beer/profile/4410/198566/view=beer&sort=top&start=0\n",
      "http://www.beeradvocate.com/beer/profile/4410/198566/view=beer&sort=top&start=25\n",
      "http://www.beeradvocate.com/beer/profile/4410/38753/view=beer&sort=top&start=0\n",
      "http://www.beeradvocate.com/beer/profile/4410/38753/view=beer&sort=top&start=25\n",
      "http://www.beeradvocate.com/beer/profile/4410/66722/view=beer&sort=top&start=0\n",
      "http://www.beeradvocate.com/beer/profile/4410/66722/view=beer&sort=top&start=25\n",
      "http://www.beeradvocate.com/beer/profile/4410/198568/view=beer&sort=top&start=0\n",
      "http://www.beeradvocate.com/beer/profile/4410/198568/view=beer&sort=top&start=25\n",
      "http://www.beeradvocate.com/beer/profile/4410/198569/view=beer&sort=top&start=0\n",
      "http://www.beeradvocate.com/beer/profile/4410/198569/view=beer&sort=top&start=25\n",
      "http://www.beeradvocate.com/beer/profile/4410/42171/view=beer&sort=top&start=0\n",
      "http://www.beeradvocate.com/beer/profile/4410/42171/view=beer&sort=top&start=25\n",
      "http://www.beeradvocate.com/beer/profile/4410/39663/view=beer&sort=top&start=0\n",
      "http://www.beeradvocate.com/beer/profile/4410/39663/view=beer&sort=top&start=25\n",
      "http://www.beeradvocate.com/beer/profile/4410/67586/view=beer&sort=top&start=0\n",
      "http://www.beeradvocate.com/beer/profile/4410/67586/view=beer&sort=top&start=25\n",
      "http://www.beeradvocate.com/beer/profile/4410/19465/view=beer&sort=top&start=0\n",
      "http://www.beeradvocate.com/beer/profile/4410/19465/view=beer&sort=top&start=25\n",
      "http://www.beeradvocate.com/beer/profile/4410/29665/view=beer&sort=top&start=0\n",
      "http://www.beeradvocate.com/beer/profile/4410/29665/view=beer&sort=top&start=25\n",
      "http://www.beeradvocate.com/beer/profile/4410/61334/view=beer&sort=top&start=0\n",
      "http://www.beeradvocate.com/beer/profile/4410/61334/view=beer&sort=top&start=25\n",
      "http://www.beeradvocate.com/beer/profile/4410/58989/view=beer&sort=top&start=0\n",
      "http://www.beeradvocate.com/beer/profile/4410/58989/view=beer&sort=top&start=25\n",
      "http://www.beeradvocate.com/beer/profile/4410/184965/view=beer&sort=top&start=0\n",
      "http://www.beeradvocate.com/beer/profile/4410/184965/view=beer&sort=top&start=25\n",
      "http://www.beeradvocate.com/beer/profile/4410/51612/view=beer&sort=top&start=0\n",
      "http://www.beeradvocate.com/beer/profile/4410/51612/view=beer&sort=top&start=25\n",
      "http://www.beeradvocate.com/beer/profile/4410/65564/view=beer&sort=top&start=0\n",
      "http://www.beeradvocate.com/beer/profile/4410/65564/view=beer&sort=top&start=25\n",
      "http://www.beeradvocate.com/beer/profile/4410/65565/view=beer&sort=top&start=0\n",
      "http://www.beeradvocate.com/beer/profile/4410/65565/view=beer&sort=top&start=25\n",
      "http://www.beeradvocate.com/beer/profile/4410/61333/view=beer&sort=top&start=0\n",
      "http://www.beeradvocate.com/beer/profile/4410/61333/view=beer&sort=top&start=25\n",
      "http://www.beeradvocate.com/beer/profile/4410/45099/view=beer&sort=top&start=0\n",
      "http://www.beeradvocate.com/beer/profile/4410/45099/view=beer&sort=top&start=25\n",
      "http://www.beeradvocate.com/beer/profile/4410/58971/view=beer&sort=top&start=0\n",
      "http://www.beeradvocate.com/beer/profile/4410/58971/view=beer&sort=top&start=25\n",
      "http://www.beeradvocate.com/beer/profile/4410/17974/view=beer&sort=top&start=0\n",
      "http://www.beeradvocate.com/beer/profile/4410/17974/view=beer&sort=top&start=25\n",
      "http://www.beeradvocate.com/beer/profile/4410/50840/view=beer&sort=top&start=0\n",
      "http://www.beeradvocate.com/beer/profile/4410/50840/view=beer&sort=top&start=25\n",
      "http://www.beeradvocate.com/beer/profile/4410/65696/view=beer&sort=top&start=0\n",
      "http://www.beeradvocate.com/beer/profile/4410/65696/view=beer&sort=top&start=25\n",
      "http://www.beeradvocate.com/beer/profile/4410/198564/view=beer&sort=top&start=0\n",
      "http://www.beeradvocate.com/beer/profile/4410/198564/view=beer&sort=top&start=25\n",
      "http://www.beeradvocate.com/beer/profile/4410/35890/view=beer&sort=top&start=0\n",
      "http://www.beeradvocate.com/beer/profile/4410/35890/view=beer&sort=top&start=25\n",
      "http://www.beeradvocate.com/beer/profile/4410/31725/view=beer&sort=top&start=0\n",
      "http://www.beeradvocate.com/beer/profile/4410/31725/view=beer&sort=top&start=25\n",
      "http://www.beeradvocate.com/beer/profile/4410/170105/view=beer&sort=top&start=0\n",
      "http://www.beeradvocate.com/beer/profile/4410/170105/view=beer&sort=top&start=25\n",
      "http://www.beeradvocate.com/beer/profile/4410/33812/view=beer&sort=top&start=0\n",
      "http://www.beeradvocate.com/beer/profile/4410/33812/view=beer&sort=top&start=25\n",
      "retry/4410\n",
      "Scraping beer:  http://www.beeradvocate.com/beer/profile/4410/43424/view=beer&sort=top&start=0\n",
      "Scraping beer:  http://www.beeradvocate.com/beer/profile/4410/43424/view=beer&sort=top&start=25\n",
      "Scraping beer:  http://www.beeradvocate.com/beer/profile/4410/43423/view=beer&sort=top&start=0\n",
      "Scraping beer:  http://www.beeradvocate.com/beer/profile/4410/43423/view=beer&sort=top&start=25\n",
      "Scraping beer:  http://www.beeradvocate.com/beer/profile/4410/51957/view=beer&sort=top&start=0\n",
      "Scraping beer:  http://www.beeradvocate.com/beer/profile/4410/51957/view=beer&sort=top&start=25\n",
      "Scraping beer:  http://www.beeradvocate.com/beer/profile/4410/62401/view=beer&sort=top&start=0\n",
      "Scraping beer:  http://www.beeradvocate.com/beer/profile/4410/62401/view=beer&sort=top&start=25\n",
      "Scraping beer:  http://www.beeradvocate.com/beer/profile/4410/61919/view=beer&sort=top&start=0\n",
      "Scraping beer:  http://www.beeradvocate.com/beer/profile/4410/61919/view=beer&sort=top&start=25\n",
      "Scraping beer:  http://www.beeradvocate.com/beer/profile/4410/61918/view=beer&sort=top&start=0\n",
      "Scraping beer:  http://www.beeradvocate.com/beer/profile/4410/61918/view=beer&sort=top&start=25\n",
      "Scraping beer:  http://www.beeradvocate.com/beer/profile/4410/45935/view=beer&sort=top&start=0\n",
      "Scraping beer:  http://www.beeradvocate.com/beer/profile/4410/45935/view=beer&sort=top&start=25\n",
      "Scraping beer:  http://www.beeradvocate.com/beer/profile/4410/44056/view=beer&sort=top&start=0\n",
      "Scraping beer:  http://www.beeradvocate.com/beer/profile/4410/44056/view=beer&sort=top&start=25\n",
      "Scraping beer:  http://www.beeradvocate.com/beer/profile/4410/62709/view=beer&sort=top&start=0\n",
      "Scraping beer:  http://www.beeradvocate.com/beer/profile/4410/62709/view=beer&sort=top&start=25\n",
      "Scraping beer:  http://www.beeradvocate.com/beer/profile/4410/127602/view=beer&sort=top&start=0\n",
      "Scraping beer:  http://www.beeradvocate.com/beer/profile/4410/127602/view=beer&sort=top&start=25\n",
      "Scraping beer:  http://www.beeradvocate.com/beer/profile/4410/121376/view=beer&sort=top&start=0\n",
      "Scraping beer:  http://www.beeradvocate.com/beer/profile/4410/121376/view=beer&sort=top&start=25\n",
      "Scraping beer:  http://www.beeradvocate.com/beer/profile/4410/121374/view=beer&sort=top&start=0\n",
      "Scraping beer:  http://www.beeradvocate.com/beer/profile/4410/121374/view=beer&sort=top&start=25\n",
      "Scraping beer:  http://www.beeradvocate.com/beer/profile/4410/198563/view=beer&sort=top&start=0\n",
      "Scraping beer:  http://www.beeradvocate.com/beer/profile/4410/198563/view=beer&sort=top&start=25\n",
      "Scraping beer:  http://www.beeradvocate.com/beer/profile/4410/198566/view=beer&sort=top&start=0\n",
      "Scraping beer:  http://www.beeradvocate.com/beer/profile/4410/198566/view=beer&sort=top&start=25\n",
      "Scraping beer:  http://www.beeradvocate.com/beer/profile/4410/38753/view=beer&sort=top&start=0\n",
      "Scraping beer:  http://www.beeradvocate.com/beer/profile/4410/38753/view=beer&sort=top&start=25\n",
      "Scraping beer:  http://www.beeradvocate.com/beer/profile/4410/66722/view=beer&sort=top&start=0\n",
      "Scraping beer:  http://www.beeradvocate.com/beer/profile/4410/66722/view=beer&sort=top&start=25\n",
      "Scraping beer:  http://www.beeradvocate.com/beer/profile/4410/198568/view=beer&sort=top&start=0\n",
      "Scraping beer:  http://www.beeradvocate.com/beer/profile/4410/198568/view=beer&sort=top&start=25\n",
      "Scraping beer:  http://www.beeradvocate.com/beer/profile/4410/198569/view=beer&sort=top&start=0\n",
      "Scraping beer:  http://www.beeradvocate.com/beer/profile/4410/198569/view=beer&sort=top&start=25\n",
      "Scraping beer:  http://www.beeradvocate.com/beer/profile/4410/42171/view=beer&sort=top&start=0\n",
      "Scraping beer:  http://www.beeradvocate.com/beer/profile/4410/42171/view=beer&sort=top&start=25\n",
      "Scraping beer:  http://www.beeradvocate.com/beer/profile/4410/39663/view=beer&sort=top&start=0\n",
      "Scraping beer:  http://www.beeradvocate.com/beer/profile/4410/39663/view=beer&sort=top&start=25\n",
      "Scraping beer:  http://www.beeradvocate.com/beer/profile/4410/67586/view=beer&sort=top&start=0\n",
      "Scraping beer:  http://www.beeradvocate.com/beer/profile/4410/67586/view=beer&sort=top&start=25\n",
      "Scraping beer:  http://www.beeradvocate.com/beer/profile/4410/19465/view=beer&sort=top&start=0\n",
      "Scraping beer:  http://www.beeradvocate.com/beer/profile/4410/19465/view=beer&sort=top&start=25\n",
      "Scraping beer:  http://www.beeradvocate.com/beer/profile/4410/29665/view=beer&sort=top&start=0\n",
      "Scraping beer:  http://www.beeradvocate.com/beer/profile/4410/29665/view=beer&sort=top&start=25\n",
      "Scraping beer:  http://www.beeradvocate.com/beer/profile/4410/61334/view=beer&sort=top&start=0\n",
      "Scraping beer:  http://www.beeradvocate.com/beer/profile/4410/61334/view=beer&sort=top&start=25\n",
      "Scraping beer:  http://www.beeradvocate.com/beer/profile/4410/58989/view=beer&sort=top&start=0\n",
      "Scraping beer:  http://www.beeradvocate.com/beer/profile/4410/58989/view=beer&sort=top&start=25\n",
      "Scraping beer:  http://www.beeradvocate.com/beer/profile/4410/184965/view=beer&sort=top&start=0\n",
      "Scraping beer:  http://www.beeradvocate.com/beer/profile/4410/184965/view=beer&sort=top&start=25\n",
      "Scraping beer:  http://www.beeradvocate.com/beer/profile/4410/51612/view=beer&sort=top&start=0\n",
      "Scraping beer:  http://www.beeradvocate.com/beer/profile/4410/51612/view=beer&sort=top&start=25\n",
      "Scraping beer:  http://www.beeradvocate.com/beer/profile/4410/65564/view=beer&sort=top&start=0\n",
      "Scraping beer:  http://www.beeradvocate.com/beer/profile/4410/65564/view=beer&sort=top&start=25\n",
      "Scraping beer:  http://www.beeradvocate.com/beer/profile/4410/65565/view=beer&sort=top&start=0\n",
      "Scraping beer:  http://www.beeradvocate.com/beer/profile/4410/65565/view=beer&sort=top&start=25\n",
      "Scraping beer:  http://www.beeradvocate.com/beer/profile/4410/61333/view=beer&sort=top&start=0\n",
      "Scraping beer:  http://www.beeradvocate.com/beer/profile/4410/61333/view=beer&sort=top&start=25\n",
      "Scraping beer:  http://www.beeradvocate.com/beer/profile/4410/45099/view=beer&sort=top&start=0\n"
     ]
    },
    {
     "ename": "IOError",
     "evalue": "[Errno 2] No such file or directory: 'retry/4410/beer_45099.html'",
     "output_type": "error",
     "traceback": [
      "\u001b[1;31m---------------------------------------------------------------------------\u001b[0m",
      "\u001b[1;31mIOError\u001b[0m                                   Traceback (most recent call last)",
      "\u001b[1;32m<ipython-input-17-f0b2e1ac3bb1>\u001b[0m in \u001b[0;36m<module>\u001b[1;34m()\u001b[0m\n\u001b[1;32m----> 1\u001b[1;33m \u001b[0mscrape_brewery\u001b[0m\u001b[1;33m(\u001b[0m\u001b[1;34m'http://www.beeradvocate.com/beer/profile/4410/'\u001b[0m\u001b[1;33m,\u001b[0m\u001b[1;34m'retry'\u001b[0m\u001b[1;33m)\u001b[0m\u001b[1;33m\u001b[0m\u001b[0m\n\u001b[0m",
      "\u001b[1;32m<ipython-input-16-d2ba547900a9>\u001b[0m in \u001b[0;36mscrape_brewery\u001b[1;34m(url, dump_directory)\u001b[0m\n\u001b[0;32m     80\u001b[0m         \u001b[1;32mprint\u001b[0m \u001b[1;34m\"Scraping beer: \"\u001b[0m\u001b[1;33m,\u001b[0m\u001b[0mbeer_url\u001b[0m\u001b[1;33m\u001b[0m\u001b[0m\n\u001b[0;32m     81\u001b[0m         \u001b[0mmatches\u001b[0m \u001b[1;33m=\u001b[0m \u001b[0mre\u001b[0m\u001b[1;33m.\u001b[0m\u001b[0msearch\u001b[0m\u001b[1;33m(\u001b[0m\u001b[1;34m'(\\d+)/(\\d+)'\u001b[0m\u001b[1;33m,\u001b[0m\u001b[0mbeer_url\u001b[0m\u001b[1;33m)\u001b[0m\u001b[1;33m\u001b[0m\u001b[0m\n\u001b[1;32m---> 82\u001b[1;33m         \u001b[0mout_beer_file\u001b[0m \u001b[1;33m=\u001b[0m \u001b[0mopen\u001b[0m\u001b[1;33m(\u001b[0m\u001b[0mdump_directory\u001b[0m\u001b[1;33m+\u001b[0m\u001b[1;34m'/'\u001b[0m\u001b[1;33m+\u001b[0m\u001b[0mstr\u001b[0m\u001b[1;33m(\u001b[0m\u001b[0mbest_key\u001b[0m\u001b[1;33m)\u001b[0m\u001b[1;33m+\u001b[0m\u001b[1;34m'/beer_'\u001b[0m\u001b[1;33m+\u001b[0m\u001b[0mmatches\u001b[0m\u001b[1;33m.\u001b[0m\u001b[0mgroup\u001b[0m\u001b[1;33m(\u001b[0m\u001b[1;36m2\u001b[0m\u001b[1;33m)\u001b[0m\u001b[1;33m+\u001b[0m\u001b[1;34m'.html'\u001b[0m\u001b[1;33m,\u001b[0m\u001b[1;34m'w'\u001b[0m\u001b[1;33m)\u001b[0m\u001b[1;33m\u001b[0m\u001b[0m\n\u001b[0m\u001b[0;32m     83\u001b[0m         \u001b[0msleep\u001b[0m\u001b[1;33m(\u001b[0m\u001b[1;36m0.25\u001b[0m\u001b[1;33m)\u001b[0m\u001b[1;33m\u001b[0m\u001b[0m\n\u001b[0;32m     84\u001b[0m         \u001b[0mbeer_req\u001b[0m \u001b[1;33m=\u001b[0m \u001b[0murllib2\u001b[0m\u001b[1;33m.\u001b[0m\u001b[0mRequest\u001b[0m\u001b[1;33m(\u001b[0m\u001b[0mbeer_url\u001b[0m\u001b[1;33m,\u001b[0m\u001b[0mNone\u001b[0m\u001b[1;33m,\u001b[0m\u001b[0mheaders\u001b[0m\u001b[1;33m)\u001b[0m\u001b[1;33m\u001b[0m\u001b[0m\n",
      "\u001b[1;31mIOError\u001b[0m: [Errno 2] No such file or directory: 'retry/4410/beer_45099.html'"
     ]
    }
   ],
   "source": [
    "scrape_brewery('http://www.beeradvocate.com/beer/profile/4410/','retry')"
   ]
  },
  {
   "cell_type": "code",
   "execution_count": 4,
   "metadata": {
    "collapsed": false
   },
   "outputs": [
    {
     "name": "stdout",
     "output_type": "stream",
     "text": [
      "True\n"
     ]
    }
   ],
   "source": [
    "print(os.path.isdir(\"breweries/3120\"))"
   ]
  },
  {
   "cell_type": "code",
   "execution_count": 5,
   "metadata": {
    "collapsed": true
   },
   "outputs": [],
   "source": [
    "def load_url_list(filename):\n",
    "    '''\n",
    "    takes the url list in filename, loads into an array, and then returns the array of URLS\n",
    "    '''\n",
    "    in_file = open(filename,'rU')\n",
    "    brewery_list = in_file.read().splitlines()\n",
    "    print 'Loaded',len(brewery_list),\"breweries.\"\n",
    "    return brewery_list"
   ]
  },
  {
   "cell_type": "code",
   "execution_count": 18,
   "metadata": {
    "collapsed": true
   },
   "outputs": [],
   "source": [
    "def main():\n",
    "    urls = load_url_list('brewery_urls.txt')\n",
    "    master_list = []\n",
    "    for url in urls:\n",
    "        scrape_brewery(url,'./retry')\n",
    "    print \"Finished scraping!\""
   ]
  },
  {
   "cell_type": "code",
   "execution_count": null,
   "metadata": {
    "collapsed": false,
    "scrolled": false
   },
   "outputs": [
    {
     "name": "stdout",
     "output_type": "stream",
     "text": [
      "Loaded 645 breweries.\n",
      "31027\n",
      "Scraping URL:  http://www.beeradvocate.com/beer/profile/31027/\n",
      "http://www.beeradvocate.com/beer/profile/31027/90624/view=beer&sort=top&start=0\n",
      "http://www.beeradvocate.com/beer/profile/31027/90624/view=beer&sort=top&start=25\n",
      "http://www.beeradvocate.com/beer/profile/31027/174882/view=beer&sort=top&start=0\n",
      "http://www.beeradvocate.com/beer/profile/31027/174882/view=beer&sort=top&start=25\n",
      "http://www.beeradvocate.com/beer/profile/31027/107941/view=beer&sort=top&start=0\n",
      "http://www.beeradvocate.com/beer/profile/31027/107941/view=beer&sort=top&start=25\n",
      "http://www.beeradvocate.com/beer/profile/31027/93412/view=beer&sort=top&start=0\n",
      "http://www.beeradvocate.com/beer/profile/31027/93412/view=beer&sort=top&start=25\n",
      "http://www.beeradvocate.com/beer/profile/31027/93908/view=beer&sort=top&start=0\n",
      "http://www.beeradvocate.com/beer/profile/31027/93908/view=beer&sort=top&start=25\n",
      "./retry/31027\n",
      "Scraping beer:  http://www.beeradvocate.com/beer/profile/31027/90624/view=beer&sort=top&start=0\n",
      "Scraping beer:  http://www.beeradvocate.com/beer/profile/31027/90624/view=beer&sort=top&start=25\n",
      "Scraping beer: "
     ]
    }
   ],
   "source": [
    "# Standard boilerplate to call the main() function to begin\n",
    "# the program. Execute this to run everything\n",
    "if __name__ == '__main__':\n",
    "    main()"
   ]
  },
  {
   "cell_type": "code",
   "execution_count": null,
   "metadata": {
    "collapsed": true
   },
   "outputs": [],
   "source": []
  }
 ],
 "metadata": {
  "kernelspec": {
   "display_name": "Python 2",
   "language": "python",
   "name": "python2"
  },
  "language_info": {
   "codemirror_mode": {
    "name": "ipython",
    "version": 2
   },
   "file_extension": ".py",
   "mimetype": "text/x-python",
   "name": "python",
   "nbconvert_exporter": "python",
   "pygments_lexer": "ipython2",
   "version": "2.7.11"
  }
 },
 "nbformat": 4,
 "nbformat_minor": 0
}
