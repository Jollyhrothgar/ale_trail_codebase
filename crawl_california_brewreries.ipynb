{
 "cells": [
  {
   "cell_type": "code",
   "execution_count": 2,
   "metadata": {
    "collapsed": true
   },
   "outputs": [],
   "source": [
    "import os\n",
    "import urllib2\n",
    "import re\n",
    "from bs4 import BeautifulSoup"
   ]
  },
  {
   "cell_type": "code",
   "execution_count": 3,
   "metadata": {
    "collapsed": false
   },
   "outputs": [
    {
     "name": "stdout",
     "output_type": "stream",
     "text": [
      "http://www.beeradvocate.com/place/list/?start=0&c_id=US&s_id=CA&brewery=Y&sort=name\n"
     ]
    }
   ],
   "source": [
    "url_page_number = 0\n",
    "url = \"http://www.beeradvocate.com/place/list/?start=\"+str(url_page_number)+\"&c_id=US&s_id=CA&brewery=Y&sort=name\"\n",
    "print url"
   ]
  },
  {
   "cell_type": "code",
   "execution_count": 4,
   "metadata": {
    "collapsed": false
   },
   "outputs": [
    {
     "name": "stdout",
     "output_type": "stream",
     "text": [
      "scraping:  http://www.beeradvocate.com/place/list/?start=0&c_id=US&s_id=CA&brewery=Y&sort=name\n"
     ]
    },
    {
     "name": "stderr",
     "output_type": "stream",
     "text": [
      "/home/mjbeaumier/anaconda2/lib/python2.7/site-packages/bs4/__init__.py:166: UserWarning: No parser was explicitly specified, so I'm using the best available HTML parser for this system (\"lxml\"). This usually isn't a problem, but if you run this code on another system, or in a different virtual environment, it may use a different parser and behave differently.\n",
      "\n",
      "To get rid of this warning, change this:\n",
      "\n",
      " BeautifulSoup([your markup])\n",
      "\n",
      "to this:\n",
      "\n",
      " BeautifulSoup([your markup], \"lxml\")\n",
      "\n",
      "  markup_type=markup_type))\n"
     ]
    }
   ],
   "source": [
    "print \"scraping: \",url\n",
    "headers = { 'User-Agent' : 'Mozilla/5.0'  }\n",
    "req = urllib2.Request(url, None, headers)\n",
    "html = urllib2.urlopen(req).read()\n",
    "soup = BeautifulSoup(html)"
   ]
  },
  {
   "cell_type": "code",
   "execution_count": 5,
   "metadata": {
    "collapsed": false
   },
   "outputs": [],
   "source": [
    "html_source = soup.prettify()"
   ]
  },
  {
   "cell_type": "code",
   "execution_count": 9,
   "metadata": {
    "collapsed": false
   },
   "outputs": [
    {
     "name": "stdout",
     "output_type": "stream",
     "text": [
      "[u'beer/profile/31027/', u'beer/profile/42860/', u'beer/profile/735/', u'beer/profile/33347/', u'beer/profile/36135/', u'beer/profile/41466/', u'beer/profile/28733/', u'beer/profile/38282/', u'beer/profile/34207/', u'beer/profile/630/', u'beer/profile/31319/', u'beer/profile/31398/', u'beer/profile/39663/', u'beer/profile/19890/', u'beer/profile/396/', u'beer/profile/24940/', u'beer/profile/33428/', u'beer/profile/37448/', u'beer/profile/3120/', u'beer/profile/31332/']\n"
     ]
    }
   ],
   "source": [
    "matches = re.findall(r'beer/profile/\\d+/',html_source)\n",
    "print matches"
   ]
  },
  {
   "cell_type": "code",
   "execution_count": 10,
   "metadata": {
    "collapsed": false
   },
   "outputs": [
    {
     "name": "stdout",
     "output_type": "stream",
     "text": [
      "www.beeradvocate.com/beer/profile/31027/\n",
      "www.beeradvocate.com/beer/profile/42860/\n",
      "www.beeradvocate.com/beer/profile/735/\n",
      "www.beeradvocate.com/beer/profile/33347/\n",
      "www.beeradvocate.com/beer/profile/36135/\n",
      "www.beeradvocate.com/beer/profile/41466/\n",
      "www.beeradvocate.com/beer/profile/28733/\n",
      "www.beeradvocate.com/beer/profile/38282/\n",
      "www.beeradvocate.com/beer/profile/34207/\n",
      "www.beeradvocate.com/beer/profile/630/\n",
      "www.beeradvocate.com/beer/profile/31319/\n",
      "www.beeradvocate.com/beer/profile/31398/\n",
      "www.beeradvocate.com/beer/profile/39663/\n",
      "www.beeradvocate.com/beer/profile/19890/\n",
      "www.beeradvocate.com/beer/profile/396/\n",
      "www.beeradvocate.com/beer/profile/24940/\n",
      "www.beeradvocate.com/beer/profile/33428/\n",
      "www.beeradvocate.com/beer/profile/37448/\n",
      "www.beeradvocate.com/beer/profile/3120/\n",
      "www.beeradvocate.com/beer/profile/31332/\n"
     ]
    }
   ],
   "source": [
    "for match in matches:\n",
    "    print 'www.beeradvocate.com/'+str(match)"
   ]
  },
  {
   "cell_type": "code",
   "execution_count": null,
   "metadata": {
    "collapsed": true
   },
   "outputs": [],
   "source": []
  }
 ],
 "metadata": {
  "kernelspec": {
   "display_name": "Python 2",
   "language": "python",
   "name": "python2"
  },
  "language_info": {
   "codemirror_mode": {
    "name": "ipython",
    "version": 2
   },
   "file_extension": ".py",
   "mimetype": "text/x-python",
   "name": "python",
   "nbconvert_exporter": "python",
   "pygments_lexer": "ipython2",
   "version": "2.7.11"
  }
 },
 "nbformat": 4,
 "nbformat_minor": 0
}
